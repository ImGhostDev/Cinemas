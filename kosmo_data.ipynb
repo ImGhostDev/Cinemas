{
  "nbformat": 4,
  "nbformat_minor": 0,
  "metadata": {
    "colab": {
      "name": "kosmo_data.ipynb",
      "provenance": [],
      "authorship_tag": "ABX9TyNORH2ePf9ua1LfEu6C1zb2",
      "include_colab_link": true
    },
    "kernelspec": {
      "name": "python3",
      "display_name": "Python 3"
    }
  },
  "cells": [
    {
      "cell_type": "markdown",
      "metadata": {
        "id": "view-in-github",
        "colab_type": "text"
      },
      "source": [
        "<a href=\"https://colab.research.google.com/github/ImGhostDev/Cinemas/blob/master/kosmo_data.ipynb\" target=\"_parent\"><img src=\"https://colab.research.google.com/assets/colab-badge.svg\" alt=\"Open In Colab\"/></a>"
      ]
    },
    {
      "cell_type": "code",
      "metadata": {
        "id": "IyPX5xqNGJDx",
        "colab_type": "code",
        "outputId": "dd3990a7-5ae3-4ca5-fcac-2ece796a1ed6",
        "colab": {
          "base_uri": "https://localhost:8080/",
          "height": 121
        }
      },
      "source": [
        "from google.colab import drive\n",
        "drive.mount('/content/drive')"
      ],
      "execution_count": 0,
      "outputs": [
        {
          "output_type": "stream",
          "text": [
            "Go to this URL in a browser: https://accounts.google.com/o/oauth2/auth?client_id=947318989803-6bn6qk8qdgf4n4g3pfee6491hc0brc4i.apps.googleusercontent.com&redirect_uri=urn%3aietf%3awg%3aoauth%3a2.0%3aoob&response_type=code&scope=email%20https%3a%2f%2fwww.googleapis.com%2fauth%2fdocs.test%20https%3a%2f%2fwww.googleapis.com%2fauth%2fdrive%20https%3a%2f%2fwww.googleapis.com%2fauth%2fdrive.photos.readonly%20https%3a%2f%2fwww.googleapis.com%2fauth%2fpeopleapi.readonly\n",
            "\n",
            "Enter your authorization code:\n",
            "··········\n",
            "Mounted at /content/drive\n"
          ],
          "name": "stdout"
        }
      ]
    },
    {
      "cell_type": "code",
      "metadata": {
        "id": "DVimITKMGjvu",
        "colab_type": "code",
        "colab": {}
      },
      "source": [
        "path_to_datasets = 'drive/My Drive/db_cosmo/'"
      ],
      "execution_count": 0,
      "outputs": []
    },
    {
      "cell_type": "code",
      "metadata": {
        "id": "hzXJ_IzsIo6g",
        "colab_type": "code",
        "colab": {}
      },
      "source": [
        "import pandas as pd"
      ],
      "execution_count": 0,
      "outputs": []
    },
    {
      "cell_type": "code",
      "metadata": {
        "id": "i5TCLaDhIb6L",
        "colab_type": "code",
        "colab": {}
      },
      "source": [
        "transactions=pd.read_csv(path_to_datasets+'Transactions.csv',encoding='cp1251', sep=';', error_bad_lines=False   )"
      ],
      "execution_count": 0,
      "outputs": []
    },
    {
      "cell_type": "code",
      "metadata": {
        "id": "a8c9l4k6InwE",
        "colab_type": "code",
        "outputId": "ec57cefc-2b20-4c5d-9ab0-b46e613d7d19",
        "colab": {
          "base_uri": "https://localhost:8080/",
          "height": 195
        }
      },
      "source": [
        "transactions.head()"
      ],
      "execution_count": 0,
      "outputs": [
        {
          "output_type": "execute_result",
          "data": {
            "text/html": [
              "<div>\n",
              "<style scoped>\n",
              "    .dataframe tbody tr th:only-of-type {\n",
              "        vertical-align: middle;\n",
              "    }\n",
              "\n",
              "    .dataframe tbody tr th {\n",
              "        vertical-align: top;\n",
              "    }\n",
              "\n",
              "    .dataframe thead th {\n",
              "        text-align: right;\n",
              "    }\n",
              "</style>\n",
              "<table border=\"1\" class=\"dataframe\">\n",
              "  <thead>\n",
              "    <tr style=\"text-align: right;\">\n",
              "      <th></th>\n",
              "      <th>Дата</th>\n",
              "      <th>Сумма</th>\n",
              "      <th>Количество</th>\n",
              "      <th>Товар</th>\n",
              "      <th>Магазин</th>\n",
              "      <th>Город</th>\n",
              "      <th>Акция</th>\n",
              "      <th>Бонусы</th>\n",
              "      <th>Карта</th>\n",
              "      <th>Клиент</th>\n",
              "      <th>Цена</th>\n",
              "    </tr>\n",
              "  </thead>\n",
              "  <tbody>\n",
              "    <tr>\n",
              "      <th>0</th>\n",
              "      <td>2017-01-22 11:59:56</td>\n",
              "      <td>-0,06</td>\n",
              "      <td>,000</td>\n",
              "      <td>70377652</td>\n",
              "      <td>271</td>\n",
              "      <td>175</td>\n",
              "      <td>0</td>\n",
              "      <td>0,06</td>\n",
              "      <td>5346484</td>\n",
              "      <td>5346484</td>\n",
              "      <td>0</td>\n",
              "    </tr>\n",
              "    <tr>\n",
              "      <th>1</th>\n",
              "      <td>2017-01-22 11:59:56</td>\n",
              "      <td>35,16</td>\n",
              "      <td>1,000</td>\n",
              "      <td>70377652</td>\n",
              "      <td>271</td>\n",
              "      <td>175</td>\n",
              "      <td>6770</td>\n",
              "      <td>8,79</td>\n",
              "      <td>5346484</td>\n",
              "      <td>5346484</td>\n",
              "      <td>43,95</td>\n",
              "    </tr>\n",
              "    <tr>\n",
              "      <th>2</th>\n",
              "      <td>2017-01-22 13:41:12</td>\n",
              "      <td>-0,05</td>\n",
              "      <td>,000</td>\n",
              "      <td>70170470</td>\n",
              "      <td>271</td>\n",
              "      <td>175</td>\n",
              "      <td>0</td>\n",
              "      <td>0,05</td>\n",
              "      <td>0</td>\n",
              "      <td>0</td>\n",
              "      <td>0</td>\n",
              "    </tr>\n",
              "    <tr>\n",
              "      <th>3</th>\n",
              "      <td>2017-01-22 13:41:12</td>\n",
              "      <td>29,95</td>\n",
              "      <td>1,000</td>\n",
              "      <td>70170470</td>\n",
              "      <td>271</td>\n",
              "      <td>175</td>\n",
              "      <td>6770</td>\n",
              "      <td>13,55</td>\n",
              "      <td>0</td>\n",
              "      <td>0</td>\n",
              "      <td>43,5</td>\n",
              "    </tr>\n",
              "    <tr>\n",
              "      <th>4</th>\n",
              "      <td>2017-01-22 14:24:05</td>\n",
              "      <td>1,42</td>\n",
              "      <td>1,000</td>\n",
              "      <td>70287000</td>\n",
              "      <td>271</td>\n",
              "      <td>175</td>\n",
              "      <td>1</td>\n",
              "      <td>0,08</td>\n",
              "      <td>4022813</td>\n",
              "      <td>4022813</td>\n",
              "      <td>1,5</td>\n",
              "    </tr>\n",
              "  </tbody>\n",
              "</table>\n",
              "</div>"
            ],
            "text/plain": [
              "                  Дата  Сумма Количество  ...    Карта   Клиент   Цена\n",
              "0  2017-01-22 11:59:56  -0,06       ,000  ...  5346484  5346484      0\n",
              "1  2017-01-22 11:59:56  35,16      1,000  ...  5346484  5346484  43,95\n",
              "2  2017-01-22 13:41:12  -0,05       ,000  ...        0        0      0\n",
              "3  2017-01-22 13:41:12  29,95      1,000  ...        0        0   43,5\n",
              "4  2017-01-22 14:24:05   1,42      1,000  ...  4022813  4022813    1,5\n",
              "\n",
              "[5 rows x 11 columns]"
            ]
          },
          "metadata": {
            "tags": []
          },
          "execution_count": 6
        }
      ]
    },
    {
      "cell_type": "code",
      "metadata": {
        "id": "UY5cVAOaKkPz",
        "colab_type": "code",
        "outputId": "d60e8150-e366-42fc-fef3-0de8731f6903",
        "colab": {
          "base_uri": "https://localhost:8080/",
          "height": 34
        }
      },
      "source": [
        "Products=pd.read_csv(path_to_datasets+\"Nadiia Hanulich-Manukian - Products.csv\",encoding='cp1251', sep=';', error_bad_lines=False   )\n"
      ],
      "execution_count": 0,
      "outputs": [
        {
          "output_type": "stream",
          "text": [
            "b'Skipping line 200762: expected 7 fields, saw 8\\nSkipping line 200763: expected 7 fields, saw 8\\n'\n"
          ],
          "name": "stderr"
        }
      ]
    },
    {
      "cell_type": "code",
      "metadata": {
        "id": "fdeVQKhtLDHZ",
        "colab_type": "code",
        "colab": {}
      },
      "source": [
        "#Com_history=pd.read_csv(path_to_datasets+\"Nadiia Hanulich-Manukian - CommunicationHistory.csv\",encoding='cp1251', sep=';', error_bad_lines=False   )"
      ],
      "execution_count": 0,
      "outputs": []
    },
    {
      "cell_type": "code",
      "metadata": {
        "id": "jCFu9jhILS24",
        "colab_type": "code",
        "outputId": "e3802980-ecc3-4d42-815e-50ee7841ac85",
        "colab": {
          "base_uri": "https://localhost:8080/",
          "height": 195
        }
      },
      "source": [
        "#Com_history.head()"
      ],
      "execution_count": 0,
      "outputs": [
        {
          "output_type": "execute_result",
          "data": {
            "text/html": [
              "<div>\n",
              "<style scoped>\n",
              "    .dataframe tbody tr th:only-of-type {\n",
              "        vertical-align: middle;\n",
              "    }\n",
              "\n",
              "    .dataframe tbody tr th {\n",
              "        vertical-align: top;\n",
              "    }\n",
              "\n",
              "    .dataframe thead th {\n",
              "        text-align: right;\n",
              "    }\n",
              "</style>\n",
              "<table border=\"1\" class=\"dataframe\">\n",
              "  <thead>\n",
              "    <tr style=\"text-align: right;\">\n",
              "      <th></th>\n",
              "      <th>Клиент</th>\n",
              "      <th>Дата коммуникации</th>\n",
              "      <th>Вид коммуникации</th>\n",
              "      <th>Результат коммуникации</th>\n",
              "    </tr>\n",
              "  </thead>\n",
              "  <tbody>\n",
              "    <tr>\n",
              "      <th>0</th>\n",
              "      <td>100005807</td>\n",
              "      <td>2018-01-08</td>\n",
              "      <td>viber</td>\n",
              "      <td>неизвестно</td>\n",
              "    </tr>\n",
              "    <tr>\n",
              "      <th>1</th>\n",
              "      <td>-1</td>\n",
              "      <td>2018-01-09</td>\n",
              "      <td>sms</td>\n",
              "      <td>неизвестно</td>\n",
              "    </tr>\n",
              "    <tr>\n",
              "      <th>2</th>\n",
              "      <td>-1</td>\n",
              "      <td>2018-01-09</td>\n",
              "      <td>sms</td>\n",
              "      <td>неизвестно</td>\n",
              "    </tr>\n",
              "    <tr>\n",
              "      <th>3</th>\n",
              "      <td>-1</td>\n",
              "      <td>2018-01-09</td>\n",
              "      <td>sms</td>\n",
              "      <td>неизвестно</td>\n",
              "    </tr>\n",
              "    <tr>\n",
              "      <th>4</th>\n",
              "      <td>-1</td>\n",
              "      <td>2018-01-09</td>\n",
              "      <td>sms</td>\n",
              "      <td>неизвестно</td>\n",
              "    </tr>\n",
              "  </tbody>\n",
              "</table>\n",
              "</div>"
            ],
            "text/plain": [
              "      Клиент Дата коммуникации Вид коммуникации Результат коммуникации\n",
              "0  100005807        2018-01-08            viber             неизвестно\n",
              "1         -1        2018-01-09              sms             неизвестно\n",
              "2         -1        2018-01-09              sms             неизвестно\n",
              "3         -1        2018-01-09              sms             неизвестно\n",
              "4         -1        2018-01-09              sms             неизвестно"
            ]
          },
          "metadata": {
            "tags": []
          },
          "execution_count": 20
        }
      ]
    },
    {
      "cell_type": "code",
      "metadata": {
        "id": "iieM4WbnLUtw",
        "colab_type": "code",
        "outputId": "8e6f0b42-8a80-4a5b-cdb2-5eda163e32c0",
        "colab": {
          "base_uri": "https://localhost:8080/",
          "height": 34
        }
      },
      "source": [
        "#Com_history[ 'Результат коммуникации'].unique()"
      ],
      "execution_count": 0,
      "outputs": [
        {
          "output_type": "execute_result",
          "data": {
            "text/plain": [
              "array(['неизвестно'], dtype=object)"
            ]
          },
          "metadata": {
            "tags": []
          },
          "execution_count": 21
        }
      ]
    },
    {
      "cell_type": "code",
      "metadata": {
        "id": "JNdq0S5zLwe-",
        "colab_type": "code",
        "colab": {}
      },
      "source": [
        "#clients=pd.read_csv(path_to_datasets+\"Nadiia Hanulich-Manukian - Clients.csv\",encoding='cp1251', sep=';', error_bad_lines=False   )"
      ],
      "execution_count": 0,
      "outputs": []
    },
    {
      "cell_type": "code",
      "metadata": {
        "id": "RbyYWmzJL9ZG",
        "colab_type": "code",
        "outputId": "8656a861-51b5-420e-dd24-5888df2732dc",
        "colab": {
          "base_uri": "https://localhost:8080/",
          "height": 195
        }
      },
      "source": [
        "#clients.head()"
      ],
      "execution_count": 0,
      "outputs": [
        {
          "output_type": "execute_result",
          "data": {
            "text/html": [
              "<div>\n",
              "<style scoped>\n",
              "    .dataframe tbody tr th:only-of-type {\n",
              "        vertical-align: middle;\n",
              "    }\n",
              "\n",
              "    .dataframe tbody tr th {\n",
              "        vertical-align: top;\n",
              "    }\n",
              "\n",
              "    .dataframe thead th {\n",
              "        text-align: right;\n",
              "    }\n",
              "</style>\n",
              "<table border=\"1\" class=\"dataframe\">\n",
              "  <thead>\n",
              "    <tr style=\"text-align: right;\">\n",
              "      <th></th>\n",
              "      <th>CustomerKey</th>\n",
              "      <th>Пол</th>\n",
              "      <th>Дата регистрации</th>\n",
              "      <th>Дата рождения</th>\n",
              "      <th>Возраст</th>\n",
              "      <th>Дети</th>\n",
              "      <th>Группа клиента</th>\n",
              "      <th>Карта</th>\n",
              "      <th>Сегмент</th>\n",
              "    </tr>\n",
              "  </thead>\n",
              "  <tbody>\n",
              "    <tr>\n",
              "      <th>0</th>\n",
              "      <td>-1</td>\n",
              "      <td>n</td>\n",
              "      <td>2005-01-11</td>\n",
              "      <td>NaN</td>\n",
              "      <td>NaN</td>\n",
              "      <td>0</td>\n",
              "      <td>Хозяйка</td>\n",
              "      <td>82754</td>\n",
              "      <td>Стабильные 3 (111)</td>\n",
              "    </tr>\n",
              "    <tr>\n",
              "      <th>1</th>\n",
              "      <td>-1</td>\n",
              "      <td>n</td>\n",
              "      <td>NaN</td>\n",
              "      <td>NaN</td>\n",
              "      <td>NaN</td>\n",
              "      <td>0</td>\n",
              "      <td>Хозяйка</td>\n",
              "      <td>1769242</td>\n",
              "      <td>Стабильные 3 (111)</td>\n",
              "    </tr>\n",
              "    <tr>\n",
              "      <th>2</th>\n",
              "      <td>-1</td>\n",
              "      <td>n</td>\n",
              "      <td>NaN</td>\n",
              "      <td>NaN</td>\n",
              "      <td>NaN</td>\n",
              "      <td>0</td>\n",
              "      <td>Хозяйка</td>\n",
              "      <td>1188643</td>\n",
              "      <td>Случайные 2 (010)</td>\n",
              "    </tr>\n",
              "    <tr>\n",
              "      <th>3</th>\n",
              "      <td>-1</td>\n",
              "      <td>n</td>\n",
              "      <td>NaN</td>\n",
              "      <td>NaN</td>\n",
              "      <td>NaN</td>\n",
              "      <td>0</td>\n",
              "      <td>Хозяйка</td>\n",
              "      <td>1106819</td>\n",
              "      <td>Отток 3 (010)</td>\n",
              "    </tr>\n",
              "    <tr>\n",
              "      <th>4</th>\n",
              "      <td>-1</td>\n",
              "      <td>n</td>\n",
              "      <td>NaN</td>\n",
              "      <td>NaN</td>\n",
              "      <td>NaN</td>\n",
              "      <td>0</td>\n",
              "      <td>Хозяйка</td>\n",
              "      <td>457071</td>\n",
              "      <td>Случайные 1 (100)</td>\n",
              "    </tr>\n",
              "  </tbody>\n",
              "</table>\n",
              "</div>"
            ],
            "text/plain": [
              "   CustomerKey Пол Дата регистрации  ... Группа клиента    Карта             Сегмент\n",
              "0           -1   n       2005-01-11  ...        Хозяйка    82754  Стабильные 3 (111)\n",
              "1           -1   n              NaN  ...        Хозяйка  1769242  Стабильные 3 (111)\n",
              "2           -1   n              NaN  ...        Хозяйка  1188643   Случайные 2 (010)\n",
              "3           -1   n              NaN  ...        Хозяйка  1106819       Отток 3 (010)\n",
              "4           -1   n              NaN  ...        Хозяйка   457071   Случайные 1 (100)\n",
              "\n",
              "[5 rows x 9 columns]"
            ]
          },
          "metadata": {
            "tags": []
          },
          "execution_count": 23
        }
      ]
    },
    {
      "cell_type": "code",
      "metadata": {
        "id": "-9n2eAkoL-6D",
        "colab_type": "code",
        "outputId": "d126be8e-d8d1-4f1b-cf39-37055f95019d",
        "colab": {
          "base_uri": "https://localhost:8080/",
          "height": 50
        }
      },
      "source": [
        "#clients['Группа клиента'].unique()"
      ],
      "execution_count": 0,
      "outputs": [
        {
          "output_type": "execute_result",
          "data": {
            "text/plain": [
              "array(['Хозяйка', 'Мама', 'Мужчины', 'Без персонажа', 'красотка'],\n",
              "      dtype=object)"
            ]
          },
          "metadata": {
            "tags": []
          },
          "execution_count": 25
        }
      ]
    },
    {
      "cell_type": "code",
      "metadata": {
        "id": "4tvqMMSHMM9z",
        "colab_type": "code",
        "outputId": "4e57a714-cc38-4643-8254-95eaf8571e35",
        "colab": {
          "base_uri": "https://localhost:8080/",
          "height": 134
        }
      },
      "source": [
        "#clients['Сегмент'].unique()"
      ],
      "execution_count": 0,
      "outputs": [
        {
          "output_type": "execute_result",
          "data": {
            "text/plain": [
              "array(['Стабильные 3 (111)', 'Случайные 2 (010)', 'Отток 3 (010)',\n",
              "       'Случайные 1 (100)', 'Отток 2 (100)', 'Вероятный отток (100)',\n",
              "       'Стабильные 4 (001)', 'Отток 1 (110)', 'Редкие 1(011)',\n",
              "       'Стабильные 1 (101)', 'Стабильные 2 (011)',\n",
              "       'Вероятный отток (010)', 'Редкие 3(110)', 'Редкие 2(101)',\n",
              "       'Вероятный отток (110)', 'Случайные 3 (001)', 'Редкие 4(111)',\n",
              "       'Новые', nan], dtype=object)"
            ]
          },
          "metadata": {
            "tags": []
          },
          "execution_count": 28
        }
      ]
    },
    {
      "cell_type": "code",
      "metadata": {
        "id": "zgOHFCieMarK",
        "colab_type": "code",
        "outputId": "f47fa193-4ca3-47e1-a0a7-a9a088c5fd83",
        "colab": {
          "base_uri": "https://localhost:8080/",
          "height": 77
        }
      },
      "source": [
        "#clients[clients['Карта']==5390185]"
      ],
      "execution_count": 0,
      "outputs": [
        {
          "output_type": "execute_result",
          "data": {
            "text/html": [
              "<div>\n",
              "<style scoped>\n",
              "    .dataframe tbody tr th:only-of-type {\n",
              "        vertical-align: middle;\n",
              "    }\n",
              "\n",
              "    .dataframe tbody tr th {\n",
              "        vertical-align: top;\n",
              "    }\n",
              "\n",
              "    .dataframe thead th {\n",
              "        text-align: right;\n",
              "    }\n",
              "</style>\n",
              "<table border=\"1\" class=\"dataframe\">\n",
              "  <thead>\n",
              "    <tr style=\"text-align: right;\">\n",
              "      <th></th>\n",
              "      <th>CustomerKey</th>\n",
              "      <th>Пол</th>\n",
              "      <th>Дата регистрации</th>\n",
              "      <th>Дата рождения</th>\n",
              "      <th>Возраст</th>\n",
              "      <th>Дети</th>\n",
              "      <th>Группа клиента</th>\n",
              "      <th>Карта</th>\n",
              "      <th>Сегмент</th>\n",
              "    </tr>\n",
              "  </thead>\n",
              "  <tbody>\n",
              "    <tr>\n",
              "      <th>229905</th>\n",
              "      <td>101351722</td>\n",
              "      <td>m</td>\n",
              "      <td>NaN</td>\n",
              "      <td>1993-10-25 00:00:00</td>\n",
              "      <td>25-34</td>\n",
              "      <td>0</td>\n",
              "      <td>Мужчины</td>\n",
              "      <td>5390185</td>\n",
              "      <td>Вероятный отток (100)</td>\n",
              "    </tr>\n",
              "  </tbody>\n",
              "</table>\n",
              "</div>"
            ],
            "text/plain": [
              "        CustomerKey Пол  ...    Карта                Сегмент\n",
              "229905    101351722   m  ...  5390185  Вероятный отток (100)\n",
              "\n",
              "[1 rows x 9 columns]"
            ]
          },
          "metadata": {
            "tags": []
          },
          "execution_count": 29
        }
      ]
    },
    {
      "cell_type": "code",
      "metadata": {
        "id": "0BZ-A7KGMu6V",
        "colab_type": "code",
        "colab": {}
      },
      "source": [
        "#Cards=pd.read_csv(path_to_datasets+\"Nadiia Hanulich-Manukian - Cards.csv\",encoding='cp1251', sep=';', error_bad_lines=False   )"
      ],
      "execution_count": 0,
      "outputs": []
    },
    {
      "cell_type": "code",
      "metadata": {
        "id": "29pYWHkLNkKG",
        "colab_type": "code",
        "outputId": "2a39c906-2fbd-4591-e37d-811cf1749109",
        "colab": {
          "base_uri": "https://localhost:8080/",
          "height": 195
        }
      },
      "source": [
        "#Cards.head()"
      ],
      "execution_count": 0,
      "outputs": [
        {
          "output_type": "execute_result",
          "data": {
            "text/html": [
              "<div>\n",
              "<style scoped>\n",
              "    .dataframe tbody tr th:only-of-type {\n",
              "        vertical-align: middle;\n",
              "    }\n",
              "\n",
              "    .dataframe tbody tr th {\n",
              "        vertical-align: top;\n",
              "    }\n",
              "\n",
              "    .dataframe thead th {\n",
              "        text-align: right;\n",
              "    }\n",
              "</style>\n",
              "<table border=\"1\" class=\"dataframe\">\n",
              "  <thead>\n",
              "    <tr style=\"text-align: right;\">\n",
              "      <th></th>\n",
              "      <th>Тип карты</th>\n",
              "      <th>Дата получения карты</th>\n",
              "      <th>Процент скидки</th>\n",
              "      <th>Клиент</th>\n",
              "    </tr>\n",
              "  </thead>\n",
              "  <tbody>\n",
              "    <tr>\n",
              "      <th>0</th>\n",
              "      <td>0</td>\n",
              "      <td>NaN</td>\n",
              "      <td>,05</td>\n",
              "      <td>-1</td>\n",
              "    </tr>\n",
              "    <tr>\n",
              "      <th>1</th>\n",
              "      <td>0</td>\n",
              "      <td>NaN</td>\n",
              "      <td>,00</td>\n",
              "      <td>0</td>\n",
              "    </tr>\n",
              "    <tr>\n",
              "      <th>2</th>\n",
              "      <td>0</td>\n",
              "      <td>NaN</td>\n",
              "      <td>,05</td>\n",
              "      <td>-1</td>\n",
              "    </tr>\n",
              "    <tr>\n",
              "      <th>3</th>\n",
              "      <td>0</td>\n",
              "      <td>NaN</td>\n",
              "      <td>,05</td>\n",
              "      <td>-1</td>\n",
              "    </tr>\n",
              "    <tr>\n",
              "      <th>4</th>\n",
              "      <td>0</td>\n",
              "      <td>NaN</td>\n",
              "      <td>,05</td>\n",
              "      <td>-1</td>\n",
              "    </tr>\n",
              "  </tbody>\n",
              "</table>\n",
              "</div>"
            ],
            "text/plain": [
              "   Тип карты Дата получения карты Процент скидки  Клиент\n",
              "0          0                  NaN            ,05      -1\n",
              "1          0                  NaN            ,00       0\n",
              "2          0                  NaN            ,05      -1\n",
              "3          0                  NaN            ,05      -1\n",
              "4          0                  NaN            ,05      -1"
            ]
          },
          "metadata": {
            "tags": []
          },
          "execution_count": 31
        }
      ]
    },
    {
      "cell_type": "code",
      "metadata": {
        "id": "QKLH85mhNl1e",
        "colab_type": "code",
        "outputId": "f30285ac-ad5d-488f-a7b6-b4f14af11dc6",
        "colab": {
          "base_uri": "https://localhost:8080/",
          "height": 50
        }
      },
      "source": [
        "#Cards['Процент скидки'].unique()"
      ],
      "execution_count": 0,
      "outputs": [
        {
          "output_type": "execute_result",
          "data": {
            "text/plain": [
              "array([',05', ',00', ',09', ',15', ',07', ',06', ',08', ',10', ',20'],\n",
              "      dtype=object)"
            ]
          },
          "metadata": {
            "tags": []
          },
          "execution_count": 33
        }
      ]
    },
    {
      "cell_type": "code",
      "metadata": {
        "id": "FAibOO6nNqZZ",
        "colab_type": "code",
        "outputId": "d6f7e271-3125-463b-dd9d-2bc7a8a53621",
        "colab": {
          "base_uri": "https://localhost:8080/",
          "height": 34
        }
      },
      "source": [
        "#Actions=pd.read_csv(path_to_datasets+\"Nadiia Hanulich-Manukian - Actions.csv\",encoding='cp1251', sep=';', error_bad_lines=False   )"
      ],
      "execution_count": 0,
      "outputs": [
        {
          "output_type": "stream",
          "text": [
            "b'Skipping line 11742: expected 5 fields, saw 6\\nSkipping line 11906: expected 5 fields, saw 6\\n'\n"
          ],
          "name": "stderr"
        }
      ]
    },
    {
      "cell_type": "code",
      "metadata": {
        "id": "bKjIa9UJN1t7",
        "colab_type": "code",
        "outputId": "9b56c86c-9eb3-4a07-c1a8-d4e203692cf4",
        "colab": {
          "base_uri": "https://localhost:8080/",
          "height": 195
        }
      },
      "source": [
        "#Actions.head()\n"
      ],
      "execution_count": 0,
      "outputs": [
        {
          "output_type": "execute_result",
          "data": {
            "text/html": [
              "<div>\n",
              "<style scoped>\n",
              "    .dataframe tbody tr th:only-of-type {\n",
              "        vertical-align: middle;\n",
              "    }\n",
              "\n",
              "    .dataframe tbody tr th {\n",
              "        vertical-align: top;\n",
              "    }\n",
              "\n",
              "    .dataframe thead th {\n",
              "        text-align: right;\n",
              "    }\n",
              "</style>\n",
              "<table border=\"1\" class=\"dataframe\">\n",
              "  <thead>\n",
              "    <tr style=\"text-align: right;\">\n",
              "      <th></th>\n",
              "      <th>PromotionKey</th>\n",
              "      <th>Вид акции</th>\n",
              "      <th>Дата старта</th>\n",
              "      <th>Дата окончания</th>\n",
              "      <th>Название</th>\n",
              "    </tr>\n",
              "  </thead>\n",
              "  <tbody>\n",
              "    <tr>\n",
              "      <th>0</th>\n",
              "      <td>0</td>\n",
              "      <td>NaN</td>\n",
              "      <td>NaN</td>\n",
              "      <td>NaN</td>\n",
              "      <td>&lt;&lt;Нет акции&gt;&gt;</td>\n",
              "    </tr>\n",
              "    <tr>\n",
              "      <th>1</th>\n",
              "      <td>1</td>\n",
              "      <td>Скидка на весь чек</td>\n",
              "      <td>2010-01-21 00:00:00</td>\n",
              "      <td>NaN</td>\n",
              "      <td>Дисконтная карточка</td>\n",
              "    </tr>\n",
              "    <tr>\n",
              "      <th>2</th>\n",
              "      <td>2</td>\n",
              "      <td>Скидка на весь чек</td>\n",
              "      <td>2010-01-21 00:00:00</td>\n",
              "      <td>NaN</td>\n",
              "      <td>Старые купоны на чек</td>\n",
              "    </tr>\n",
              "    <tr>\n",
              "      <th>3</th>\n",
              "      <td>3</td>\n",
              "      <td>Скидка на весь чек</td>\n",
              "      <td>2010-01-21 00:00:00</td>\n",
              "      <td>NaN</td>\n",
              "      <td>Старые купоны на товар</td>\n",
              "    </tr>\n",
              "    <tr>\n",
              "      <th>4</th>\n",
              "      <td>4</td>\n",
              "      <td>Скидка на весь чек</td>\n",
              "      <td>2010-01-21 00:00:00</td>\n",
              "      <td>NaN</td>\n",
              "      <td>Ручная скидка на чек</td>\n",
              "    </tr>\n",
              "  </tbody>\n",
              "</table>\n",
              "</div>"
            ],
            "text/plain": [
              "   PromotionKey           Вид акции  ... Дата окончания                Название\n",
              "0             0                 NaN  ...            NaN           <<Нет акции>>\n",
              "1             1  Скидка на весь чек  ...            NaN     Дисконтная карточка\n",
              "2             2  Скидка на весь чек  ...            NaN    Старые купоны на чек\n",
              "3             3  Скидка на весь чек  ...            NaN  Старые купоны на товар\n",
              "4             4  Скидка на весь чек  ...            NaN    Ручная скидка на чек\n",
              "\n",
              "[5 rows x 5 columns]"
            ]
          },
          "metadata": {
            "tags": []
          },
          "execution_count": 39
        }
      ]
    },
    {
      "cell_type": "code",
      "metadata": {
        "id": "hDVtrLiaN3ZK",
        "colab_type": "code",
        "outputId": "543ea01f-64fe-4ee9-c40b-ea7c111e218e",
        "colab": {
          "base_uri": "https://localhost:8080/",
          "height": 195
        }
      },
      "source": [
        "Products.head()"
      ],
      "execution_count": 0,
      "outputs": [
        {
          "output_type": "execute_result",
          "data": {
            "text/html": [
              "<div>\n",
              "<style scoped>\n",
              "    .dataframe tbody tr th:only-of-type {\n",
              "        vertical-align: middle;\n",
              "    }\n",
              "\n",
              "    .dataframe tbody tr th {\n",
              "        vertical-align: top;\n",
              "    }\n",
              "\n",
              "    .dataframe thead th {\n",
              "        text-align: right;\n",
              "    }\n",
              "</style>\n",
              "<table border=\"1\" class=\"dataframe\">\n",
              "  <thead>\n",
              "    <tr style=\"text-align: right;\">\n",
              "      <th></th>\n",
              "      <th>ProductKey</th>\n",
              "      <th>Название</th>\n",
              "      <th>Вид</th>\n",
              "      <th>Подгруппа</th>\n",
              "      <th>Группа</th>\n",
              "      <th>Бренд</th>\n",
              "      <th>Цена</th>\n",
              "    </tr>\n",
              "  </thead>\n",
              "  <tbody>\n",
              "    <tr>\n",
              "      <th>0</th>\n",
              "      <td>70017830</td>\n",
              "      <td>Filodoro колг.Vesta 40 cappuc 4</td>\n",
              "      <td>товары</td>\n",
              "      <td>Колготы женские</td>\n",
              "      <td>Чулочно-носочные изделия взрослые</td>\n",
              "      <td>FILODORO</td>\n",
              "      <td>22,25</td>\n",
              "    </tr>\n",
              "    <tr>\n",
              "      <th>1</th>\n",
              "      <td>70017834</td>\n",
              "      <td>Filodoro колг.Avrora 15 nero 2</td>\n",
              "      <td>товары</td>\n",
              "      <td>Колготы женские</td>\n",
              "      <td>Чулочно-носочные изделия взрослые</td>\n",
              "      <td>FILODORO</td>\n",
              "      <td>15,75</td>\n",
              "    </tr>\n",
              "    <tr>\n",
              "      <th>2</th>\n",
              "      <td>70017836</td>\n",
              "      <td>Filodoro колг.Clio 30 nero 3</td>\n",
              "      <td>товары</td>\n",
              "      <td>Колготы женские</td>\n",
              "      <td>Чулочно-носочные изделия взрослые</td>\n",
              "      <td>FILODORO</td>\n",
              "      <td>27,95</td>\n",
              "    </tr>\n",
              "    <tr>\n",
              "      <th>3</th>\n",
              "      <td>70017838</td>\n",
              "      <td>Filodoro колг.Top Comf.50 glac.1/2</td>\n",
              "      <td>товары</td>\n",
              "      <td>Колготы женские</td>\n",
              "      <td>Чулочно-носочные изделия взрослые</td>\n",
              "      <td>FILODORO</td>\n",
              "      <td>15,95</td>\n",
              "    </tr>\n",
              "    <tr>\n",
              "      <th>4</th>\n",
              "      <td>70017840</td>\n",
              "      <td>Filodoro колг.Ninfa Comf.20 ant.4</td>\n",
              "      <td>товары</td>\n",
              "      <td>Колготы женские</td>\n",
              "      <td>Чулочно-носочные изделия взрослые</td>\n",
              "      <td>FILODORO</td>\n",
              "      <td>22,75</td>\n",
              "    </tr>\n",
              "  </tbody>\n",
              "</table>\n",
              "</div>"
            ],
            "text/plain": [
              "   ProductKey                            Название  ...     Бренд   Цена\n",
              "0    70017830     Filodoro колг.Vesta 40 cappuc 4  ...  FILODORO  22,25\n",
              "1    70017834      Filodoro колг.Avrora 15 nero 2  ...  FILODORO  15,75\n",
              "2    70017836        Filodoro колг.Clio 30 nero 3  ...  FILODORO  27,95\n",
              "3    70017838  Filodoro колг.Top Comf.50 glac.1/2  ...  FILODORO  15,95\n",
              "4    70017840   Filodoro колг.Ninfa Comf.20 ant.4  ...  FILODORO  22,75\n",
              "\n",
              "[5 rows x 7 columns]"
            ]
          },
          "metadata": {
            "tags": []
          },
          "execution_count": 9
        }
      ]
    },
    {
      "cell_type": "code",
      "metadata": {
        "id": "hQkF6Sc2OQil",
        "colab_type": "code",
        "colab": {}
      },
      "source": [
        "Products=Products[Products['Вид']!='услуги']"
      ],
      "execution_count": 0,
      "outputs": []
    },
    {
      "cell_type": "code",
      "metadata": {
        "id": "pHtEJDC-OVOx",
        "colab_type": "code",
        "outputId": "c7bdfdea-6d6f-484b-9fae-598148e60ab3",
        "colab": {
          "base_uri": "https://localhost:8080/",
          "height": 402
        }
      },
      "source": [
        "Products[(Products['Группа']=='Мыло туалетное') &(Products['Подгруппа']=='Мыло твердое') &(Products['Бренд']=='DURU')]"
      ],
      "execution_count": 0,
      "outputs": [
        {
          "output_type": "execute_result",
          "data": {
            "text/html": [
              "<div>\n",
              "<style scoped>\n",
              "    .dataframe tbody tr th:only-of-type {\n",
              "        vertical-align: middle;\n",
              "    }\n",
              "\n",
              "    .dataframe tbody tr th {\n",
              "        vertical-align: top;\n",
              "    }\n",
              "\n",
              "    .dataframe thead th {\n",
              "        text-align: right;\n",
              "    }\n",
              "</style>\n",
              "<table border=\"1\" class=\"dataframe\">\n",
              "  <thead>\n",
              "    <tr style=\"text-align: right;\">\n",
              "      <th></th>\n",
              "      <th>ProductKey</th>\n",
              "      <th>Название</th>\n",
              "      <th>Вид</th>\n",
              "      <th>Подгруппа</th>\n",
              "      <th>Группа</th>\n",
              "      <th>Бренд</th>\n",
              "      <th>Цена</th>\n",
              "    </tr>\n",
              "  </thead>\n",
              "  <tbody>\n",
              "    <tr>\n",
              "      <th>7981</th>\n",
              "      <td>70148928</td>\n",
              "      <td>DURU 1+1 мило 5*100г ЛОТОС</td>\n",
              "      <td>товары</td>\n",
              "      <td>Мыло твердое</td>\n",
              "      <td>Мыло туалетное</td>\n",
              "      <td>DURU</td>\n",
              "      <td>5,95</td>\n",
              "    </tr>\n",
              "    <tr>\n",
              "      <th>7982</th>\n",
              "      <td>70148930</td>\n",
              "      <td>DURU 1+1 мило 5*100г ЛИМОН</td>\n",
              "      <td>товары</td>\n",
              "      <td>Мыло твердое</td>\n",
              "      <td>Мыло туалетное</td>\n",
              "      <td>DURU</td>\n",
              "      <td>5,95</td>\n",
              "    </tr>\n",
              "    <tr>\n",
              "      <th>7983</th>\n",
              "      <td>70148932</td>\n",
              "      <td>DURU 1+1 мило 5*100г ЗЕЛЕНИЙ ЧАЙ</td>\n",
              "      <td>товары</td>\n",
              "      <td>Мыло твердое</td>\n",
              "      <td>Мыло туалетное</td>\n",
              "      <td>DURU</td>\n",
              "      <td>5,95</td>\n",
              "    </tr>\n",
              "    <tr>\n",
              "      <th>7984</th>\n",
              "      <td>70037194</td>\n",
              "      <td>DURU мило 3*100г Оливкове###</td>\n",
              "      <td>товары</td>\n",
              "      <td>Мыло твердое</td>\n",
              "      <td>Мыло туалетное</td>\n",
              "      <td>DURU</td>\n",
              "      <td>0</td>\n",
              "    </tr>\n",
              "    <tr>\n",
              "      <th>7985</th>\n",
              "      <td>70037196</td>\n",
              "      <td>DURU мило 3*100г Мигдаль###</td>\n",
              "      <td>товары</td>\n",
              "      <td>Мыло твердое</td>\n",
              "      <td>Мыло туалетное</td>\n",
              "      <td>DURU</td>\n",
              "      <td>0</td>\n",
              "    </tr>\n",
              "    <tr>\n",
              "      <th>...</th>\n",
              "      <td>...</td>\n",
              "      <td>...</td>\n",
              "      <td>...</td>\n",
              "      <td>...</td>\n",
              "      <td>...</td>\n",
              "      <td>...</td>\n",
              "      <td>...</td>\n",
              "    </tr>\n",
              "    <tr>\n",
              "      <th>43718</th>\n",
              "      <td>70438930</td>\n",
              "      <td>DURU Fresh Sensations Океанський бриз 4*150г</td>\n",
              "      <td>товары</td>\n",
              "      <td>Мыло твердое</td>\n",
              "      <td>Мыло туалетное</td>\n",
              "      <td>DURU</td>\n",
              "      <td>81</td>\n",
              "    </tr>\n",
              "    <tr>\n",
              "      <th>43719</th>\n",
              "      <td>70438932</td>\n",
              "      <td>DURU Fresh Sensations Океанський бриз 150г</td>\n",
              "      <td>товары</td>\n",
              "      <td>Мыло твердое</td>\n",
              "      <td>Мыло туалетное</td>\n",
              "      <td>DURU</td>\n",
              "      <td>26,5</td>\n",
              "    </tr>\n",
              "    <tr>\n",
              "      <th>43720</th>\n",
              "      <td>70438934</td>\n",
              "      <td>DURU Fresh Sensations Квіткова хмара 150г</td>\n",
              "      <td>товары</td>\n",
              "      <td>Мыло твердое</td>\n",
              "      <td>Мыло туалетное</td>\n",
              "      <td>DURU</td>\n",
              "      <td>26,5</td>\n",
              "    </tr>\n",
              "    <tr>\n",
              "      <th>43721</th>\n",
              "      <td>70439412</td>\n",
              "      <td>DURU Fresh Sensations Гірська сівжість 4*110г</td>\n",
              "      <td>товары</td>\n",
              "      <td>Мыло твердое</td>\n",
              "      <td>Мыло туалетное</td>\n",
              "      <td>DURU</td>\n",
              "      <td>63,25</td>\n",
              "    </tr>\n",
              "    <tr>\n",
              "      <th>43722</th>\n",
              "      <td>70439414</td>\n",
              "      <td>DURU Fresh Sensations Океанський бриз 4*110г</td>\n",
              "      <td>товары</td>\n",
              "      <td>Мыло твердое</td>\n",
              "      <td>Мыло туалетное</td>\n",
              "      <td>DURU</td>\n",
              "      <td>63,25</td>\n",
              "    </tr>\n",
              "  </tbody>\n",
              "</table>\n",
              "<p>84 rows × 7 columns</p>\n",
              "</div>"
            ],
            "text/plain": [
              "       ProductKey                                       Название  ... Бренд   Цена\n",
              "7981     70148928                     DURU 1+1 мило 5*100г ЛОТОС  ...  DURU   5,95\n",
              "7982     70148930                     DURU 1+1 мило 5*100г ЛИМОН  ...  DURU   5,95\n",
              "7983     70148932               DURU 1+1 мило 5*100г ЗЕЛЕНИЙ ЧАЙ  ...  DURU   5,95\n",
              "7984     70037194                   DURU мило 3*100г Оливкове###  ...  DURU      0\n",
              "7985     70037196                    DURU мило 3*100г Мигдаль###  ...  DURU      0\n",
              "...           ...                                            ...  ...   ...    ...\n",
              "43718    70438930   DURU Fresh Sensations Океанський бриз 4*150г  ...  DURU     81\n",
              "43719    70438932     DURU Fresh Sensations Океанський бриз 150г  ...  DURU   26,5\n",
              "43720    70438934      DURU Fresh Sensations Квіткова хмара 150г  ...  DURU   26,5\n",
              "43721    70439412  DURU Fresh Sensations Гірська сівжість 4*110г  ...  DURU  63,25\n",
              "43722    70439414   DURU Fresh Sensations Океанський бриз 4*110г  ...  DURU  63,25\n",
              "\n",
              "[84 rows x 7 columns]"
            ]
          },
          "metadata": {
            "tags": []
          },
          "execution_count": 11
        }
      ]
    },
    {
      "cell_type": "code",
      "metadata": {
        "id": "tmkPwZmVPQNH",
        "colab_type": "code",
        "colab": {}
      },
      "source": [
        "group=dict(zip(Products['Группа'].unique(),[i for i in range(len(Products['Группа'].unique()))]))"
      ],
      "execution_count": 0,
      "outputs": []
    },
    {
      "cell_type": "code",
      "metadata": {
        "id": "hxZx5EaBP0fI",
        "colab_type": "code",
        "colab": {}
      },
      "source": [
        "undergroup=dict(zip(Products['Подгруппа'].unique(),[i for i in range(len(Products['Подгруппа'].unique()))]))"
      ],
      "execution_count": 0,
      "outputs": []
    },
    {
      "cell_type": "code",
      "metadata": {
        "id": "BC_L6lbdRskf",
        "colab_type": "code",
        "colab": {}
      },
      "source": [
        "brand=dict(zip(Products['Бренд'].unique(),[i for i in range(len(Products['Бренд'].unique()))]))\n"
      ],
      "execution_count": 0,
      "outputs": []
    },
    {
      "cell_type": "code",
      "metadata": {
        "id": "AxunwLrqSVJ7",
        "colab_type": "code",
        "colab": {}
      },
      "source": [
        "Products['group']=Products['Группа'].map(lambda x: group.get(x))"
      ],
      "execution_count": 0,
      "outputs": []
    },
    {
      "cell_type": "code",
      "metadata": {
        "id": "XRECQRLfSq_t",
        "colab_type": "code",
        "colab": {}
      },
      "source": [
        "Products['undergroup']=Products['Подгруппа'].map(lambda x: undergroup.get(x))"
      ],
      "execution_count": 0,
      "outputs": []
    },
    {
      "cell_type": "code",
      "metadata": {
        "id": "HalLO6W8Sv18",
        "colab_type": "code",
        "colab": {}
      },
      "source": [
        "Products['brand']=Products['Бренд'].map(lambda x: brand.get(x))"
      ],
      "execution_count": 0,
      "outputs": []
    },
    {
      "cell_type": "code",
      "metadata": {
        "id": "CQEsmTFWS0gX",
        "colab_type": "code",
        "colab": {}
      },
      "source": [
        "Products['new_prod_key']=Products[['brand','group','undergroup']].apply(lambda x: str(x.group)+'_'+str(x.undergroup)+'_'+str(x.brand), axis=1)"
      ],
      "execution_count": 0,
      "outputs": []
    },
    {
      "cell_type": "code",
      "metadata": {
        "id": "PGZlur-dS1mq",
        "colab_type": "code",
        "outputId": "fc6cad02-9fa0-436d-9b83-8a94a111a07d",
        "colab": {
          "base_uri": "https://localhost:8080/",
          "height": 34
        }
      },
      "source": [
        "Products['ProductKey'].nunique()"
      ],
      "execution_count": 0,
      "outputs": [
        {
          "output_type": "execute_result",
          "data": {
            "text/plain": [
              "208020"
            ]
          },
          "metadata": {
            "tags": []
          },
          "execution_count": 19
        }
      ]
    },
    {
      "cell_type": "code",
      "metadata": {
        "id": "CV8PvhEITZjG",
        "colab_type": "code",
        "outputId": "46ebf100-77a4-4d41-e7fe-cc9470b6307e",
        "colab": {
          "base_uri": "https://localhost:8080/",
          "height": 34
        }
      },
      "source": [
        "Products['new_prod_key'].nunique()"
      ],
      "execution_count": 0,
      "outputs": [
        {
          "output_type": "execute_result",
          "data": {
            "text/plain": [
              "22105"
            ]
          },
          "metadata": {
            "tags": []
          },
          "execution_count": 20
        }
      ]
    },
    {
      "cell_type": "code",
      "metadata": {
        "id": "F8vebwDkTe-M",
        "colab_type": "code",
        "colab": {}
      },
      "source": [
        "#Products[['ProductKey','new_prod_key', 'Подгруппа','Группа','Бренд']].to_csv(path_to_datasets+'new_prod_keys.csv')\n",
        "Products=pd.read_csv(path_to_datasets+'new_prod_keys.csv', index_col=0)"
      ],
      "execution_count": 0,
      "outputs": []
    },
    {
      "cell_type": "code",
      "metadata": {
        "id": "noSql2ohyEPC",
        "colab_type": "code",
        "outputId": "1558aed9-67d3-4e3e-9329-0d4de02b6fc9",
        "colab": {
          "base_uri": "https://localhost:8080/",
          "height": 195
        }
      },
      "source": [
        "Products.head()"
      ],
      "execution_count": 0,
      "outputs": [
        {
          "output_type": "execute_result",
          "data": {
            "text/html": [
              "<div>\n",
              "<style scoped>\n",
              "    .dataframe tbody tr th:only-of-type {\n",
              "        vertical-align: middle;\n",
              "    }\n",
              "\n",
              "    .dataframe tbody tr th {\n",
              "        vertical-align: top;\n",
              "    }\n",
              "\n",
              "    .dataframe thead th {\n",
              "        text-align: right;\n",
              "    }\n",
              "</style>\n",
              "<table border=\"1\" class=\"dataframe\">\n",
              "  <thead>\n",
              "    <tr style=\"text-align: right;\">\n",
              "      <th></th>\n",
              "      <th>ProductKey</th>\n",
              "      <th>new_prod_key</th>\n",
              "      <th>Подгруппа</th>\n",
              "      <th>Группа</th>\n",
              "      <th>Бренд</th>\n",
              "    </tr>\n",
              "  </thead>\n",
              "  <tbody>\n",
              "    <tr>\n",
              "      <th>0</th>\n",
              "      <td>70017830</td>\n",
              "      <td>0_0_0</td>\n",
              "      <td>Колготы женские</td>\n",
              "      <td>Чулочно-носочные изделия взрослые</td>\n",
              "      <td>FILODORO</td>\n",
              "    </tr>\n",
              "    <tr>\n",
              "      <th>1</th>\n",
              "      <td>70017834</td>\n",
              "      <td>0_0_0</td>\n",
              "      <td>Колготы женские</td>\n",
              "      <td>Чулочно-носочные изделия взрослые</td>\n",
              "      <td>FILODORO</td>\n",
              "    </tr>\n",
              "    <tr>\n",
              "      <th>2</th>\n",
              "      <td>70017836</td>\n",
              "      <td>0_0_0</td>\n",
              "      <td>Колготы женские</td>\n",
              "      <td>Чулочно-носочные изделия взрослые</td>\n",
              "      <td>FILODORO</td>\n",
              "    </tr>\n",
              "    <tr>\n",
              "      <th>3</th>\n",
              "      <td>70017838</td>\n",
              "      <td>0_0_0</td>\n",
              "      <td>Колготы женские</td>\n",
              "      <td>Чулочно-носочные изделия взрослые</td>\n",
              "      <td>FILODORO</td>\n",
              "    </tr>\n",
              "    <tr>\n",
              "      <th>4</th>\n",
              "      <td>70017840</td>\n",
              "      <td>0_0_0</td>\n",
              "      <td>Колготы женские</td>\n",
              "      <td>Чулочно-носочные изделия взрослые</td>\n",
              "      <td>FILODORO</td>\n",
              "    </tr>\n",
              "  </tbody>\n",
              "</table>\n",
              "</div>"
            ],
            "text/plain": [
              "   ProductKey new_prod_key  ...                             Группа     Бренд\n",
              "0    70017830        0_0_0  ...  Чулочно-носочные изделия взрослые  FILODORO\n",
              "1    70017834        0_0_0  ...  Чулочно-носочные изделия взрослые  FILODORO\n",
              "2    70017836        0_0_0  ...  Чулочно-носочные изделия взрослые  FILODORO\n",
              "3    70017838        0_0_0  ...  Чулочно-носочные изделия взрослые  FILODORO\n",
              "4    70017840        0_0_0  ...  Чулочно-носочные изделия взрослые  FILODORO\n",
              "\n",
              "[5 rows x 5 columns]"
            ]
          },
          "metadata": {
            "tags": []
          },
          "execution_count": 24
        }
      ]
    },
    {
      "cell_type": "code",
      "metadata": {
        "id": "5s70V8TcTm5_",
        "colab_type": "code",
        "colab": {}
      },
      "source": [
        "transactions_short=transactions[['Дата','Товар','Карта']]"
      ],
      "execution_count": 0,
      "outputs": []
    },
    {
      "cell_type": "code",
      "metadata": {
        "id": "e7Zn9q4fUGL_",
        "colab_type": "code",
        "colab": {}
      },
      "source": [
        "transactions_short=pd.merge(transactions_short,Products[['ProductKey','new_prod_key']], left_on='Товар', right_on='ProductKey')"
      ],
      "execution_count": 0,
      "outputs": []
    },
    {
      "cell_type": "code",
      "metadata": {
        "id": "kp3zSAayUew7",
        "colab_type": "code",
        "outputId": "760ad16f-f2d1-449f-e3b0-4cd43c1ba55e",
        "colab": {
          "base_uri": "https://localhost:8080/",
          "height": 34
        }
      },
      "source": [
        "len(transactions)==len(transactions_short)"
      ],
      "execution_count": 0,
      "outputs": [
        {
          "output_type": "execute_result",
          "data": {
            "text/plain": [
              "True"
            ]
          },
          "metadata": {
            "tags": []
          },
          "execution_count": 27
        }
      ]
    },
    {
      "cell_type": "code",
      "metadata": {
        "id": "Nq_Ch3l4VITO",
        "colab_type": "code",
        "colab": {}
      },
      "source": [
        "transactions_short.drop(columns=['Товар','ProductKey'], inplace=True)"
      ],
      "execution_count": 0,
      "outputs": []
    },
    {
      "cell_type": "code",
      "metadata": {
        "id": "kC_kmS-6VT6I",
        "colab_type": "code",
        "outputId": "be5cd374-a04b-4ae6-989a-50750f78f8ae",
        "colab": {
          "base_uri": "https://localhost:8080/",
          "height": 303
        }
      },
      "source": [
        "transactions_short.sort_values(by='Дата')"
      ],
      "execution_count": 0,
      "outputs": [
        {
          "output_type": "error",
          "ename": "KeyboardInterrupt",
          "evalue": "ignored",
          "traceback": [
            "\u001b[0;31m---------------------------------------------------------------------------\u001b[0m",
            "\u001b[0;31mKeyboardInterrupt\u001b[0m                         Traceback (most recent call last)",
            "\u001b[0;32m<ipython-input-29-b57e7c51298c>\u001b[0m in \u001b[0;36m<module>\u001b[0;34m()\u001b[0m\n\u001b[0;32m----> 1\u001b[0;31m \u001b[0mtransactions_short\u001b[0m\u001b[0;34m.\u001b[0m\u001b[0msort_values\u001b[0m\u001b[0;34m(\u001b[0m\u001b[0mby\u001b[0m\u001b[0;34m=\u001b[0m\u001b[0;34m'Дата'\u001b[0m\u001b[0;34m)\u001b[0m\u001b[0;34m\u001b[0m\u001b[0;34m\u001b[0m\u001b[0m\n\u001b[0m",
            "\u001b[0;32m/usr/local/lib/python3.6/dist-packages/pandas/core/frame.py\u001b[0m in \u001b[0;36msort_values\u001b[0;34m(self, by, axis, ascending, inplace, kind, na_position, ignore_index)\u001b[0m\n\u001b[1;32m   4931\u001b[0m \u001b[0;34m\u001b[0m\u001b[0m\n\u001b[1;32m   4932\u001b[0m             indexer = nargsort(\n\u001b[0;32m-> 4933\u001b[0;31m                 \u001b[0mk\u001b[0m\u001b[0;34m,\u001b[0m \u001b[0mkind\u001b[0m\u001b[0;34m=\u001b[0m\u001b[0mkind\u001b[0m\u001b[0;34m,\u001b[0m \u001b[0mascending\u001b[0m\u001b[0;34m=\u001b[0m\u001b[0mascending\u001b[0m\u001b[0;34m,\u001b[0m \u001b[0mna_position\u001b[0m\u001b[0;34m=\u001b[0m\u001b[0mna_position\u001b[0m\u001b[0;34m\u001b[0m\u001b[0;34m\u001b[0m\u001b[0m\n\u001b[0m\u001b[1;32m   4934\u001b[0m             )\n\u001b[1;32m   4935\u001b[0m \u001b[0;34m\u001b[0m\u001b[0m\n",
            "\u001b[0;32m/usr/local/lib/python3.6/dist-packages/pandas/core/sorting.py\u001b[0m in \u001b[0;36mnargsort\u001b[0;34m(items, kind, ascending, na_position)\u001b[0m\n\u001b[1;32m    272\u001b[0m         \u001b[0mnon_nans\u001b[0m \u001b[0;34m=\u001b[0m \u001b[0mnon_nans\u001b[0m\u001b[0;34m[\u001b[0m\u001b[0;34m:\u001b[0m\u001b[0;34m:\u001b[0m\u001b[0;34m-\u001b[0m\u001b[0;36m1\u001b[0m\u001b[0;34m]\u001b[0m\u001b[0;34m\u001b[0m\u001b[0;34m\u001b[0m\u001b[0m\n\u001b[1;32m    273\u001b[0m         \u001b[0mnon_nan_idx\u001b[0m \u001b[0;34m=\u001b[0m \u001b[0mnon_nan_idx\u001b[0m\u001b[0;34m[\u001b[0m\u001b[0;34m:\u001b[0m\u001b[0;34m:\u001b[0m\u001b[0;34m-\u001b[0m\u001b[0;36m1\u001b[0m\u001b[0;34m]\u001b[0m\u001b[0;34m\u001b[0m\u001b[0;34m\u001b[0m\u001b[0m\n\u001b[0;32m--> 274\u001b[0;31m     \u001b[0mindexer\u001b[0m \u001b[0;34m=\u001b[0m \u001b[0mnon_nan_idx\u001b[0m\u001b[0;34m[\u001b[0m\u001b[0mnon_nans\u001b[0m\u001b[0;34m.\u001b[0m\u001b[0margsort\u001b[0m\u001b[0;34m(\u001b[0m\u001b[0mkind\u001b[0m\u001b[0;34m=\u001b[0m\u001b[0mkind\u001b[0m\u001b[0;34m)\u001b[0m\u001b[0;34m]\u001b[0m\u001b[0;34m\u001b[0m\u001b[0;34m\u001b[0m\u001b[0m\n\u001b[0m\u001b[1;32m    275\u001b[0m     \u001b[0;32mif\u001b[0m \u001b[0;32mnot\u001b[0m \u001b[0mascending\u001b[0m\u001b[0;34m:\u001b[0m\u001b[0;34m\u001b[0m\u001b[0;34m\u001b[0m\u001b[0m\n\u001b[1;32m    276\u001b[0m         \u001b[0mindexer\u001b[0m \u001b[0;34m=\u001b[0m \u001b[0mindexer\u001b[0m\u001b[0;34m[\u001b[0m\u001b[0;34m:\u001b[0m\u001b[0;34m:\u001b[0m\u001b[0;34m-\u001b[0m\u001b[0;36m1\u001b[0m\u001b[0;34m]\u001b[0m\u001b[0;34m\u001b[0m\u001b[0;34m\u001b[0m\u001b[0m\n",
            "\u001b[0;31mKeyboardInterrupt\u001b[0m: "
          ]
        }
      ]
    },
    {
      "cell_type": "code",
      "metadata": {
        "id": "gzvWtIdsV4ug",
        "colab_type": "code",
        "colab": {}
      },
      "source": [
        "transactions_short=transactions_short[transactions_short['Карта']!=0]"
      ],
      "execution_count": 0,
      "outputs": []
    },
    {
      "cell_type": "code",
      "metadata": {
        "id": "IpqTIdgNWVLe",
        "colab_type": "code",
        "outputId": "137c95d2-d2e4-4eca-97c5-9026d3a645cb",
        "colab": {
          "base_uri": "https://localhost:8080/",
          "height": 70
        }
      },
      "source": [
        "#transactions_short.to_csv(path_to_datasets+'transactions_short.csv')\n",
        "transactions_short=pd.read_csv(path_to_datasets+'transactions_short.csv', index_col=0)"
      ],
      "execution_count": 0,
      "outputs": [
        {
          "output_type": "stream",
          "text": [
            "/usr/local/lib/python3.6/dist-packages/numpy/lib/arraysetops.py:569: FutureWarning: elementwise comparison failed; returning scalar instead, but in the future will perform elementwise comparison\n",
            "  mask |= (ar1 == a)\n"
          ],
          "name": "stderr"
        }
      ]
    },
    {
      "cell_type": "code",
      "metadata": {
        "id": "wexQWhrwWqtc",
        "colab_type": "code",
        "colab": {}
      },
      "source": [
        "New_prod_code_more_300=transactions_short.new_prod_key.value_counts()[transactions_short.new_prod_key.value_counts() > 300].index"
      ],
      "execution_count": 0,
      "outputs": []
    },
    {
      "cell_type": "code",
      "metadata": {
        "id": "JyMIwlCLXHjn",
        "colab_type": "code",
        "outputId": "4a8715ed-e285-4a4c-f173-85281394cab2",
        "colab": {
          "base_uri": "https://localhost:8080/",
          "height": 151
        }
      },
      "source": [
        "New_prod_code_more_300"
      ],
      "execution_count": 0,
      "outputs": [
        {
          "output_type": "execute_result",
          "data": {
            "text/plain": [
              "Index(['303_1024_39', '0_0_663', '26_32_54', '144_384_2811', '18_22_39',\n",
              "       '60_70_640', '164_334_2214', '106_164_841', '144_264_2811',\n",
              "       '295_191_2187',\n",
              "       ...\n",
              "       '30_35_137', '107_174_3182', '129_225_1318', '122_203_1336',\n",
              "       '234_1101_2194', '45_57_235', '172_412_279', '0_391_1766',\n",
              "       '233_769_176', '128_298_157'],\n",
              "      dtype='object', length=1784)"
            ]
          },
          "metadata": {
            "tags": []
          },
          "execution_count": 89
        }
      ]
    },
    {
      "cell_type": "code",
      "metadata": {
        "id": "6UtIP2ewXJQL",
        "colab_type": "code",
        "colab": {}
      },
      "source": [
        "transactions_short=transactions_short[transactions_short['new_prod_key'].isin(New_prod_code_more_300)]"
      ],
      "execution_count": 0,
      "outputs": []
    },
    {
      "cell_type": "code",
      "metadata": {
        "id": "ODJjIyOfX5K2",
        "colab_type": "code",
        "colab": {}
      },
      "source": [
        "transactions_short['Дата']=pd.to_datetime(transactions_short['Дата'])"
      ],
      "execution_count": 0,
      "outputs": []
    },
    {
      "cell_type": "code",
      "metadata": {
        "id": "Aa80wJfyenFv",
        "colab_type": "code",
        "colab": {}
      },
      "source": [
        "codec=dict(zip(New_prod_code_more_300,[i+1 for i in range(len(New_prod_code_more_300))]))"
      ],
      "execution_count": 0,
      "outputs": []
    },
    {
      "cell_type": "code",
      "metadata": {
        "id": "gETYy5cFefdj",
        "colab_type": "code",
        "colab": {}
      },
      "source": [
        "transactions_short['ID_code']=transactions_short['new_prod_key'].map(lambda x: codec.get(x))"
      ],
      "execution_count": 0,
      "outputs": []
    },
    {
      "cell_type": "code",
      "metadata": {
        "id": "FyMTO1krXTKb",
        "colab_type": "code",
        "outputId": "e64e91f5-6766-4bc0-b54d-3e86994acb27",
        "colab": {
          "base_uri": "https://localhost:8080/",
          "height": 104
        }
      },
      "source": [
        "df_test = transactions_short[transactions_short['Дата'] > pd.datetime(2019,9,1)]\n",
        "df_train = transactions_short[~(transactions_short['Дата']> pd.datetime(2019,9,1))]"
      ],
      "execution_count": 0,
      "outputs": [
        {
          "output_type": "stream",
          "text": [
            "/usr/local/lib/python3.6/dist-packages/ipykernel_launcher.py:1: FutureWarning: The pandas.datetime class is deprecated and will be removed from pandas in a future version. Import from datetime instead.\n",
            "  \"\"\"Entry point for launching an IPython kernel.\n",
            "/usr/local/lib/python3.6/dist-packages/ipykernel_launcher.py:2: FutureWarning: The pandas.datetime class is deprecated and will be removed from pandas in a future version. Import from datetime instead.\n",
            "  \n"
          ],
          "name": "stderr"
        }
      ]
    },
    {
      "cell_type": "code",
      "metadata": {
        "id": "m_AyMrFtXxae",
        "colab_type": "code",
        "colab": {}
      },
      "source": [
        "pred_dataset = pd.DataFrame(df_test['Карта'].unique(), columns=['Карта'])"
      ],
      "execution_count": 0,
      "outputs": []
    },
    {
      "cell_type": "code",
      "metadata": {
        "id": "9cE-K4Z-YLER",
        "colab_type": "code",
        "outputId": "373ec706-b8b8-4414-a977-a0b585809fa5",
        "colab": {
          "base_uri": "https://localhost:8080/",
          "height": 34
        }
      },
      "source": [
        "top_10_SKU = df_train.loc[:, 'ID_code'].value_counts()[:10].index.tolist()\n",
        "top_10_SKU"
      ],
      "execution_count": 0,
      "outputs": [
        {
          "output_type": "execute_result",
          "data": {
            "text/plain": [
              "[1, 3, 4, 2, 5, 6, 7, 9, 10, 8]"
            ]
          },
          "metadata": {
            "tags": []
          },
          "execution_count": 149
        }
      ]
    },
    {
      "cell_type": "code",
      "metadata": {
        "id": "xoG2fe8HYS1w",
        "colab_type": "code",
        "colab": {}
      },
      "source": [
        "#pred_dataset['recomendation'] = ' '.join([str(v) for v in top_10_SKU])\n",
        "pred_dataset['recomendation']=0"
      ],
      "execution_count": 0,
      "outputs": []
    },
    {
      "cell_type": "code",
      "metadata": {
        "id": "q0zpz83jYujo",
        "colab_type": "code",
        "outputId": "b5f626bb-fcb6-42d0-ba11-d97268a91435",
        "colab": {
          "base_uri": "https://localhost:8080/",
          "height": 34
        }
      },
      "source": [
        "from keras.preprocessing.sequence import pad_sequences"
      ],
      "execution_count": 0,
      "outputs": [
        {
          "output_type": "stream",
          "text": [
            "Using TensorFlow backend.\n"
          ],
          "name": "stderr"
        }
      ]
    },
    {
      "cell_type": "code",
      "metadata": {
        "id": "5LzJI8W0Y98Z",
        "colab_type": "code",
        "colab": {}
      },
      "source": [
        "import tqdm\n",
        "tqdm.tqdm.pandas()"
      ],
      "execution_count": 0,
      "outputs": []
    },
    {
      "cell_type": "code",
      "metadata": {
        "id": "16oCFbH1YZMK",
        "colab_type": "code",
        "outputId": "b157919f-b38b-47c6-b021-7c2ff1af5f61",
        "colab": {
          "base_uri": "https://localhost:8080/",
          "height": 34
        }
      },
      "source": [
        "sequences = df_train.groupby('Карта')['ID_code'].progress_apply(list)"
      ],
      "execution_count": 0,
      "outputs": [
        {
          "output_type": "stream",
          "text": [
            "100%|██████████| 157705/157705 [00:22<00:00, 7094.17it/s]\n"
          ],
          "name": "stderr"
        }
      ]
    },
    {
      "cell_type": "code",
      "metadata": {
        "id": "g6nruRVIYnjK",
        "colab_type": "code",
        "colab": {}
      },
      "source": [
        "min_purchases = 6\n",
        "sequences2use = sequences[sequences.apply(len) >= min_purchases]"
      ],
      "execution_count": 0,
      "outputs": []
    },
    {
      "cell_type": "code",
      "metadata": {
        "id": "qRtL6an0ZGD2",
        "colab_type": "code",
        "outputId": "c4fb2e2f-9be5-4118-f874-6499ecff22e2",
        "colab": {
          "base_uri": "https://localhost:8080/",
          "height": 34
        }
      },
      "source": [
        "maxlen = 18 # Length of sequences in X\n",
        "X = []\n",
        "y = []\n",
        "\n",
        "def slice_sequence(seq, num_slices):\n",
        "    for i in range(1, num_slices):\n",
        "        X.append(seq[-(i+maxlen): -i])\n",
        "        y.append(seq[-i])\n",
        "        \n",
        "for seq in tqdm.tqdm(sequences2use):\n",
        "#     slice_sequence(seq, len(seq))\n",
        "    if len(seq) <= maxlen:\n",
        "        slice_sequence(seq, 2)\n",
        "    elif len(seq) <= maxlen + int(maxlen*0.5):\n",
        "        slice_sequence(seq, len(seq)-min_purchases+1)\n",
        "    elif len(seq) <= maxlen*2:\n",
        "        slice_sequence(seq, len(seq)-min_purchases+1-4)\n",
        "    else:\n",
        "        slice_sequence(seq, 30)"
      ],
      "execution_count": 0,
      "outputs": [
        {
          "output_type": "stream",
          "text": [
            "100%|██████████| 116431/116431 [00:03<00:00, 32486.66it/s]\n"
          ],
          "name": "stderr"
        }
      ]
    },
    {
      "cell_type": "code",
      "metadata": {
        "id": "k3DpVCEfZQYc",
        "colab_type": "code",
        "colab": {}
      },
      "source": [
        "import numpy as np"
      ],
      "execution_count": 0,
      "outputs": []
    },
    {
      "cell_type": "code",
      "metadata": {
        "id": "_iPZGl6GcJjI",
        "colab_type": "code",
        "outputId": "bc124677-b318-4a0f-a45c-a638a2c00c8a",
        "colab": {
          "base_uri": "https://localhost:8080/",
          "height": 34
        }
      },
      "source": [
        "X[0]"
      ],
      "execution_count": 0,
      "outputs": [
        {
          "output_type": "execute_result",
          "data": {
            "text/plain": [
              "[120, 120, 291, 291, 270, 270, 90, 90]"
            ]
          },
          "metadata": {
            "tags": []
          },
          "execution_count": 46
        }
      ]
    },
    {
      "cell_type": "code",
      "metadata": {
        "id": "fv5Yx-vsc8vu",
        "colab_type": "code",
        "outputId": "e6c6d7b4-5f80-466e-9807-6843d555559b",
        "colab": {
          "base_uri": "https://localhost:8080/",
          "height": 50
        }
      },
      "source": [
        "X[0]"
      ],
      "execution_count": 0,
      "outputs": [
        {
          "output_type": "execute_result",
          "data": {
            "text/plain": [
              "array([  0,   0,   0,   0,   0,   0,   0,   0,   0,   0, 120, 120, 291,\n",
              "       291, 270, 270,  90,  90], dtype=int32)"
            ]
          },
          "metadata": {
            "tags": []
          },
          "execution_count": 161
        }
      ]
    },
    {
      "cell_type": "code",
      "metadata": {
        "id": "-g8OwZgwZJwi",
        "colab_type": "code",
        "colab": {}
      },
      "source": [
        "# We should pad our sequences with 0 values, so they all will have the same length\n",
        "X = pad_sequences(X, maxlen=maxlen)\n",
        "y = np.array(y)"
      ],
      "execution_count": 0,
      "outputs": []
    },
    {
      "cell_type": "code",
      "metadata": {
        "id": "blMT6SEIZZmW",
        "colab_type": "code",
        "colab": {}
      },
      "source": [
        "from keras.preprocessing.sequence import pad_sequences\n",
        "from keras.layers import Input, Embedding, SpatialDropout1D, Dropout, Dense, LSTM\n",
        "from keras.models import Model\n",
        "from keras.callbacks import ModelCheckpoint\n",
        "# Let's set random seed\n",
        "# import tensorflow as tf\n",
        "# tf.set_random_seed(42)\n",
        "np.random.seed(42)"
      ],
      "execution_count": 0,
      "outputs": []
    },
    {
      "cell_type": "code",
      "metadata": {
        "id": "G85QZraDZMo5",
        "colab_type": "code",
        "colab": {}
      },
      "source": [
        "max_features = df_train['ID_code'].unique().size + 4\n",
        "embed_size = 64\n",
        "\n",
        "def lstm128():\n",
        "    inp = Input(shape=(maxlen,))\n",
        "    x = Embedding(max_features, embed_size)(inp)\n",
        "    x = SpatialDropout1D(0.05)(x)\n",
        "    x = LSTM(128, return_sequences=False)(x)\n",
        "    x = Dropout(0.02)(x)\n",
        "    outp = Dense(max_features, activation=\"softmax\")(x)\n",
        "    model = Model(inputs=inp, outputs=outp)\n",
        "    model.compile(loss='sparse_categorical_crossentropy', optimizer='rmsprop',\n",
        "                  metrics=['sparse_categorical_accuracy'])\n",
        "    return model"
      ],
      "execution_count": 0,
      "outputs": []
    },
    {
      "cell_type": "code",
      "metadata": {
        "id": "o_p1g29MZUFO",
        "colab_type": "code",
        "outputId": "84950fab-edd5-4d6c-b8f6-2bb3ffd0b261",
        "colab": {
          "base_uri": "https://localhost:8080/",
          "height": 1000
        }
      },
      "source": [
        "# Let's train our  system\n",
        "model = lstm128()\n",
        "filepath = 'drive/My Drive/db_cosmo/'+'models/' + \"epochs:{epoch:03d}-val_sparse_categorical_accuracy:{val_sparse_categorical_accuracy:.3f}_64_embed_128_cells_maxlen18.hdf5\"\n",
        "checkpoint = ModelCheckpoint(filepath, monitor='val_sparse_categorical_accuracy', verbose=1, save_best_only=True, mode='max')\n",
        "model.fit(X, y, batch_size=2048*4, epochs=250, verbose=True, validation_split=0.03, callbacks=[checkpoint],  shuffle=True)"
      ],
      "execution_count": 0,
      "outputs": [
        {
          "output_type": "stream",
          "text": [
            "/usr/local/lib/python3.6/dist-packages/tensorflow/python/framework/indexed_slices.py:434: UserWarning: Converting sparse IndexedSlices to a dense Tensor of unknown shape. This may consume a large amount of memory.\n",
            "  \"Converting sparse IndexedSlices to a dense Tensor of unknown shape. \"\n"
          ],
          "name": "stderr"
        },
        {
          "output_type": "stream",
          "text": [
            "Train on 1597047 samples, validate on 49394 samples\n",
            "Epoch 1/250\n",
            "1597047/1597047 [==============================] - 691s 433us/step - loss: 6.7140 - sparse_categorical_accuracy: 0.0149 - val_loss: 6.4122 - val_sparse_categorical_accuracy: 0.0232\n",
            "\n",
            "Epoch 00001: val_sparse_categorical_accuracy improved from -inf to 0.02316, saving model to drive/My Drive/db_cosmo/models/epochs:001-val_sparse_categorical_accuracy:0.023_64_embed_128_cells_maxlen18.hdf5\n",
            "Epoch 2/250\n",
            "1597047/1597047 [==============================] - 690s 432us/step - loss: 6.1709 - sparse_categorical_accuracy: 0.0348 - val_loss: 5.7961 - val_sparse_categorical_accuracy: 0.0757\n",
            "\n",
            "Epoch 00002: val_sparse_categorical_accuracy improved from 0.02316 to 0.07570, saving model to drive/My Drive/db_cosmo/models/epochs:002-val_sparse_categorical_accuracy:0.076_64_embed_128_cells_maxlen18.hdf5\n",
            "Epoch 3/250\n",
            "1597047/1597047 [==============================] - 693s 434us/step - loss: 5.5420 - sparse_categorical_accuracy: 0.1273 - val_loss: 5.1706 - val_sparse_categorical_accuracy: 0.2133\n",
            "\n",
            "Epoch 00003: val_sparse_categorical_accuracy improved from 0.07570 to 0.21335, saving model to drive/My Drive/db_cosmo/models/epochs:003-val_sparse_categorical_accuracy:0.213_64_embed_128_cells_maxlen18.hdf5\n",
            "Epoch 4/250\n",
            "1597047/1597047 [==============================] - 693s 434us/step - loss: 4.9606 - sparse_categorical_accuracy: 0.2677 - val_loss: 4.6697 - val_sparse_categorical_accuracy: 0.3438\n",
            "\n",
            "Epoch 00004: val_sparse_categorical_accuracy improved from 0.21335 to 0.34385, saving model to drive/My Drive/db_cosmo/models/epochs:004-val_sparse_categorical_accuracy:0.344_64_embed_128_cells_maxlen18.hdf5\n",
            "Epoch 5/250\n",
            "1597047/1597047 [==============================] - 691s 433us/step - loss: 4.5366 - sparse_categorical_accuracy: 0.3701 - val_loss: 4.3318 - val_sparse_categorical_accuracy: 0.4145\n",
            "\n",
            "Epoch 00005: val_sparse_categorical_accuracy improved from 0.34385 to 0.41446, saving model to drive/My Drive/db_cosmo/models/epochs:005-val_sparse_categorical_accuracy:0.414_64_embed_128_cells_maxlen18.hdf5\n",
            "Epoch 6/250\n",
            "1597047/1597047 [==============================] - 691s 433us/step - loss: 4.2558 - sparse_categorical_accuracy: 0.4269 - val_loss: 4.1342 - val_sparse_categorical_accuracy: 0.4517\n",
            "\n",
            "Epoch 00006: val_sparse_categorical_accuracy improved from 0.41446 to 0.45167, saving model to drive/My Drive/db_cosmo/models/epochs:006-val_sparse_categorical_accuracy:0.452_64_embed_128_cells_maxlen18.hdf5\n",
            "Epoch 7/250\n",
            "1597047/1597047 [==============================] - 691s 433us/step - loss: 4.0737 - sparse_categorical_accuracy: 0.4567 - val_loss: 4.0042 - val_sparse_categorical_accuracy: 0.4695\n",
            "\n",
            "Epoch 00007: val_sparse_categorical_accuracy improved from 0.45167 to 0.46949, saving model to drive/My Drive/db_cosmo/models/epochs:007-val_sparse_categorical_accuracy:0.469_64_embed_128_cells_maxlen18.hdf5\n",
            "Epoch 8/250\n",
            "1597047/1597047 [==============================] - 692s 434us/step - loss: 3.9537 - sparse_categorical_accuracy: 0.4720 - val_loss: 3.9131 - val_sparse_categorical_accuracy: 0.4782\n",
            "\n",
            "Epoch 00008: val_sparse_categorical_accuracy improved from 0.46949 to 0.47818, saving model to drive/My Drive/db_cosmo/models/epochs:008-val_sparse_categorical_accuracy:0.478_64_embed_128_cells_maxlen18.hdf5\n",
            "Epoch 9/250\n",
            "1597047/1597047 [==============================] - 693s 434us/step - loss: 3.8724 - sparse_categorical_accuracy: 0.4797 - val_loss: 3.8560 - val_sparse_categorical_accuracy: 0.4827\n",
            "\n",
            "Epoch 00009: val_sparse_categorical_accuracy improved from 0.47818 to 0.48273, saving model to drive/My Drive/db_cosmo/models/epochs:009-val_sparse_categorical_accuracy:0.483_64_embed_128_cells_maxlen18.hdf5\n",
            "Epoch 10/250\n",
            "1597047/1597047 [==============================] - 691s 433us/step - loss: 3.8153 - sparse_categorical_accuracy: 0.4833 - val_loss: 3.8153 - val_sparse_categorical_accuracy: 0.4846\n",
            "\n",
            "Epoch 00010: val_sparse_categorical_accuracy improved from 0.48273 to 0.48457, saving model to drive/My Drive/db_cosmo/models/epochs:010-val_sparse_categorical_accuracy:0.485_64_embed_128_cells_maxlen18.hdf5\n",
            "Epoch 11/250\n",
            "1597047/1597047 [==============================] - 692s 433us/step - loss: 3.7732 - sparse_categorical_accuracy: 0.4851 - val_loss: 3.7846 - val_sparse_categorical_accuracy: 0.4855\n",
            "\n",
            "Epoch 00011: val_sparse_categorical_accuracy improved from 0.48457 to 0.48546, saving model to drive/My Drive/db_cosmo/models/epochs:011-val_sparse_categorical_accuracy:0.485_64_embed_128_cells_maxlen18.hdf5\n",
            "Epoch 12/250\n",
            "1597047/1597047 [==============================] - 694s 434us/step - loss: 3.7414 - sparse_categorical_accuracy: 0.4860 - val_loss: 3.7662 - val_sparse_categorical_accuracy: 0.4859\n",
            "\n",
            "Epoch 00012: val_sparse_categorical_accuracy improved from 0.48546 to 0.48595, saving model to drive/My Drive/db_cosmo/models/epochs:012-val_sparse_categorical_accuracy:0.486_64_embed_128_cells_maxlen18.hdf5\n",
            "Epoch 13/250\n",
            "1597047/1597047 [==============================] - 693s 434us/step - loss: 3.7158 - sparse_categorical_accuracy: 0.4865 - val_loss: 3.7443 - val_sparse_categorical_accuracy: 0.4859\n",
            "\n",
            "Epoch 00013: val_sparse_categorical_accuracy did not improve from 0.48595\n",
            "Epoch 14/250\n",
            "1597047/1597047 [==============================] - 696s 436us/step - loss: 3.6946 - sparse_categorical_accuracy: 0.4867 - val_loss: 3.7298 - val_sparse_categorical_accuracy: 0.4863\n",
            "\n",
            "Epoch 00014: val_sparse_categorical_accuracy improved from 0.48595 to 0.48629, saving model to drive/My Drive/db_cosmo/models/epochs:014-val_sparse_categorical_accuracy:0.486_64_embed_128_cells_maxlen18.hdf5\n",
            "Epoch 15/250\n",
            "1597047/1597047 [==============================] - 692s 433us/step - loss: 3.6762 - sparse_categorical_accuracy: 0.4869 - val_loss: 3.7150 - val_sparse_categorical_accuracy: 0.4864\n",
            "\n",
            "Epoch 00015: val_sparse_categorical_accuracy improved from 0.48629 to 0.48635, saving model to drive/My Drive/db_cosmo/models/epochs:015-val_sparse_categorical_accuracy:0.486_64_embed_128_cells_maxlen18.hdf5\n",
            "Epoch 16/250\n",
            "1597047/1597047 [==============================] - 687s 430us/step - loss: 3.6603 - sparse_categorical_accuracy: 0.4870 - val_loss: 3.7041 - val_sparse_categorical_accuracy: 0.4863\n",
            "\n",
            "Epoch 00016: val_sparse_categorical_accuracy did not improve from 0.48635\n",
            "Epoch 17/250\n",
            "1597047/1597047 [==============================] - 688s 431us/step - loss: 3.6460 - sparse_categorical_accuracy: 0.4870 - val_loss: 3.6953 - val_sparse_categorical_accuracy: 0.4866\n",
            "\n",
            "Epoch 00017: val_sparse_categorical_accuracy improved from 0.48635 to 0.48660, saving model to drive/My Drive/db_cosmo/models/epochs:017-val_sparse_categorical_accuracy:0.487_64_embed_128_cells_maxlen18.hdf5\n",
            "Epoch 18/250\n",
            "1597047/1597047 [==============================] - 692s 433us/step - loss: 3.6339 - sparse_categorical_accuracy: 0.4872 - val_loss: 3.6840 - val_sparse_categorical_accuracy: 0.4863\n",
            "\n",
            "Epoch 00018: val_sparse_categorical_accuracy did not improve from 0.48660\n",
            "Epoch 19/250\n",
            "1597047/1597047 [==============================] - 695s 435us/step - loss: 3.6222 - sparse_categorical_accuracy: 0.4872 - val_loss: 3.6798 - val_sparse_categorical_accuracy: 0.4866\n",
            "\n",
            "Epoch 00019: val_sparse_categorical_accuracy did not improve from 0.48660\n",
            "Epoch 20/250\n",
            "1597047/1597047 [==============================] - 695s 435us/step - loss: 3.6116 - sparse_categorical_accuracy: 0.4874 - val_loss: 3.6777 - val_sparse_categorical_accuracy: 0.4864\n",
            "\n",
            "Epoch 00020: val_sparse_categorical_accuracy did not improve from 0.48660\n",
            "Epoch 21/250\n",
            "1597047/1597047 [==============================] - 693s 434us/step - loss: 3.6024 - sparse_categorical_accuracy: 0.4874 - val_loss: 3.6715 - val_sparse_categorical_accuracy: 0.4865\n",
            "\n",
            "Epoch 00021: val_sparse_categorical_accuracy did not improve from 0.48660\n",
            "Epoch 22/250\n",
            "1597047/1597047 [==============================] - 690s 432us/step - loss: 3.5932 - sparse_categorical_accuracy: 0.4874 - val_loss: 3.6650 - val_sparse_categorical_accuracy: 0.4865\n",
            "\n",
            "Epoch 00022: val_sparse_categorical_accuracy did not improve from 0.48660\n",
            "Epoch 23/250\n",
            "1597047/1597047 [==============================] - 692s 433us/step - loss: 3.5853 - sparse_categorical_accuracy: 0.4875 - val_loss: 3.6587 - val_sparse_categorical_accuracy: 0.4868\n",
            "\n",
            "Epoch 00023: val_sparse_categorical_accuracy improved from 0.48660 to 0.48676, saving model to drive/My Drive/db_cosmo/models/epochs:023-val_sparse_categorical_accuracy:0.487_64_embed_128_cells_maxlen18.hdf5\n",
            "Epoch 24/250\n",
            "1597047/1597047 [==============================] - 692s 433us/step - loss: 3.5776 - sparse_categorical_accuracy: 0.4875 - val_loss: 3.6571 - val_sparse_categorical_accuracy: 0.4865\n",
            "\n",
            "Epoch 00024: val_sparse_categorical_accuracy did not improve from 0.48676\n",
            "Epoch 25/250\n",
            "1597047/1597047 [==============================] - 692s 433us/step - loss: 3.5702 - sparse_categorical_accuracy: 0.4875 - val_loss: 3.6532 - val_sparse_categorical_accuracy: 0.4865\n",
            "\n",
            "Epoch 00025: val_sparse_categorical_accuracy did not improve from 0.48676\n",
            "Epoch 26/250\n",
            "1597047/1597047 [==============================] - 696s 436us/step - loss: 3.5638 - sparse_categorical_accuracy: 0.4876 - val_loss: 3.6503 - val_sparse_categorical_accuracy: 0.4865\n",
            "\n",
            "Epoch 00026: val_sparse_categorical_accuracy did not improve from 0.48676\n",
            "Epoch 27/250\n",
            "1597047/1597047 [==============================] - 687s 430us/step - loss: 3.5571 - sparse_categorical_accuracy: 0.4877 - val_loss: 3.6457 - val_sparse_categorical_accuracy: 0.4864\n",
            "\n",
            "Epoch 00027: val_sparse_categorical_accuracy did not improve from 0.48676\n",
            "Epoch 28/250\n",
            "1597047/1597047 [==============================] - 690s 432us/step - loss: 3.5508 - sparse_categorical_accuracy: 0.4876 - val_loss: 3.6454 - val_sparse_categorical_accuracy: 0.4868\n",
            "\n",
            "Epoch 00028: val_sparse_categorical_accuracy improved from 0.48676 to 0.48680, saving model to drive/My Drive/db_cosmo/models/epochs:028-val_sparse_categorical_accuracy:0.487_64_embed_128_cells_maxlen18.hdf5\n",
            "Epoch 29/250\n",
            "1597047/1597047 [==============================] - 689s 432us/step - loss: 3.5455 - sparse_categorical_accuracy: 0.4876 - val_loss: 3.6396 - val_sparse_categorical_accuracy: 0.4865\n",
            "\n",
            "Epoch 00029: val_sparse_categorical_accuracy did not improve from 0.48680\n",
            "Epoch 30/250\n",
            "1597047/1597047 [==============================] - 692s 433us/step - loss: 3.5402 - sparse_categorical_accuracy: 0.4878 - val_loss: 3.6397 - val_sparse_categorical_accuracy: 0.4865\n",
            "\n",
            "Epoch 00030: val_sparse_categorical_accuracy did not improve from 0.48680\n",
            "Epoch 31/250\n",
            "1597047/1597047 [==============================] - 689s 431us/step - loss: 3.5342 - sparse_categorical_accuracy: 0.4877 - val_loss: 3.6308 - val_sparse_categorical_accuracy: 0.4869\n",
            "\n",
            "Epoch 00031: val_sparse_categorical_accuracy improved from 0.48680 to 0.48690, saving model to drive/My Drive/db_cosmo/models/epochs:031-val_sparse_categorical_accuracy:0.487_64_embed_128_cells_maxlen18.hdf5\n",
            "Epoch 32/250\n",
            "1597047/1597047 [==============================] - 688s 431us/step - loss: 3.5301 - sparse_categorical_accuracy: 0.4878 - val_loss: 3.6331 - val_sparse_categorical_accuracy: 0.4867\n",
            "\n",
            "Epoch 00032: val_sparse_categorical_accuracy did not improve from 0.48690\n",
            "Epoch 33/250\n",
            "1597047/1597047 [==============================] - 689s 431us/step - loss: 3.5250 - sparse_categorical_accuracy: 0.4878 - val_loss: 3.6304 - val_sparse_categorical_accuracy: 0.4865\n",
            "\n",
            "Epoch 00033: val_sparse_categorical_accuracy did not improve from 0.48690\n",
            "Epoch 34/250\n",
            "1597047/1597047 [==============================] - 694s 435us/step - loss: 3.5209 - sparse_categorical_accuracy: 0.4878 - val_loss: 3.6294 - val_sparse_categorical_accuracy: 0.4866\n",
            "\n",
            "Epoch 00034: val_sparse_categorical_accuracy did not improve from 0.48690\n",
            "Epoch 35/250\n",
            "1597047/1597047 [==============================] - 690s 432us/step - loss: 3.5164 - sparse_categorical_accuracy: 0.4879 - val_loss: 3.6253 - val_sparse_categorical_accuracy: 0.4869\n",
            "\n",
            "Epoch 00035: val_sparse_categorical_accuracy did not improve from 0.48690\n",
            "Epoch 36/250\n",
            "1597047/1597047 [==============================] - 687s 430us/step - loss: 3.5123 - sparse_categorical_accuracy: 0.4879 - val_loss: 3.6246 - val_sparse_categorical_accuracy: 0.4865\n",
            "\n",
            "Epoch 00036: val_sparse_categorical_accuracy did not improve from 0.48690\n",
            "Epoch 37/250\n",
            "1597047/1597047 [==============================] - 691s 433us/step - loss: 3.5088 - sparse_categorical_accuracy: 0.4879 - val_loss: 3.6236 - val_sparse_categorical_accuracy: 0.4867\n",
            "\n",
            "Epoch 00037: val_sparse_categorical_accuracy did not improve from 0.48690\n",
            "Epoch 38/250\n",
            "1597047/1597047 [==============================] - 692s 434us/step - loss: 3.5048 - sparse_categorical_accuracy: 0.4879 - val_loss: 3.6236 - val_sparse_categorical_accuracy: 0.4866\n",
            "\n",
            "Epoch 00038: val_sparse_categorical_accuracy did not improve from 0.48690\n",
            "Epoch 39/250\n",
            "1597047/1597047 [==============================] - 696s 436us/step - loss: 3.5012 - sparse_categorical_accuracy: 0.4880 - val_loss: 3.6202 - val_sparse_categorical_accuracy: 0.4865\n",
            "\n",
            "Epoch 00039: val_sparse_categorical_accuracy did not improve from 0.48690\n",
            "Epoch 40/250\n",
            "1449984/1597047 [==========================>...] - ETA: 1:03 - loss: 3.4981 - sparse_categorical_accuracy: 0.4878"
          ],
          "name": "stdout"
        },
        {
          "output_type": "error",
          "ename": "KeyboardInterrupt",
          "evalue": "ignored",
          "traceback": [
            "\u001b[0;31m---------------------------------------------------------------------------\u001b[0m",
            "\u001b[0;31mKeyboardInterrupt\u001b[0m                         Traceback (most recent call last)",
            "\u001b[0;32m<ipython-input-276-b7998b92e6d1>\u001b[0m in \u001b[0;36m<module>\u001b[0;34m()\u001b[0m\n\u001b[1;32m      2\u001b[0m \u001b[0mfilepath\u001b[0m \u001b[0;34m=\u001b[0m \u001b[0;34m'drive/My Drive/db_cosmo/'\u001b[0m\u001b[0;34m+\u001b[0m\u001b[0;34m'models/'\u001b[0m \u001b[0;34m+\u001b[0m \u001b[0;34m\"epochs:{epoch:03d}-val_sparse_categorical_accuracy:{val_sparse_categorical_accuracy:.3f}_64_embed_128_cells_maxlen18.hdf5\"\u001b[0m\u001b[0;34m\u001b[0m\u001b[0;34m\u001b[0m\u001b[0m\n\u001b[1;32m      3\u001b[0m \u001b[0mcheckpoint\u001b[0m \u001b[0;34m=\u001b[0m \u001b[0mModelCheckpoint\u001b[0m\u001b[0;34m(\u001b[0m\u001b[0mfilepath\u001b[0m\u001b[0;34m,\u001b[0m \u001b[0mmonitor\u001b[0m\u001b[0;34m=\u001b[0m\u001b[0;34m'val_sparse_categorical_accuracy'\u001b[0m\u001b[0;34m,\u001b[0m \u001b[0mverbose\u001b[0m\u001b[0;34m=\u001b[0m\u001b[0;36m1\u001b[0m\u001b[0;34m,\u001b[0m \u001b[0msave_best_only\u001b[0m\u001b[0;34m=\u001b[0m\u001b[0;32mTrue\u001b[0m\u001b[0;34m,\u001b[0m \u001b[0mmode\u001b[0m\u001b[0;34m=\u001b[0m\u001b[0;34m'max'\u001b[0m\u001b[0;34m)\u001b[0m\u001b[0;34m\u001b[0m\u001b[0;34m\u001b[0m\u001b[0m\n\u001b[0;32m----> 4\u001b[0;31m \u001b[0mmodel\u001b[0m\u001b[0;34m.\u001b[0m\u001b[0mfit\u001b[0m\u001b[0;34m(\u001b[0m\u001b[0mX\u001b[0m\u001b[0;34m,\u001b[0m \u001b[0my\u001b[0m\u001b[0;34m,\u001b[0m \u001b[0mbatch_size\u001b[0m\u001b[0;34m=\u001b[0m\u001b[0;36m2048\u001b[0m\u001b[0;34m*\u001b[0m\u001b[0;36m4\u001b[0m\u001b[0;34m,\u001b[0m \u001b[0mepochs\u001b[0m\u001b[0;34m=\u001b[0m\u001b[0;36m250\u001b[0m\u001b[0;34m,\u001b[0m \u001b[0mverbose\u001b[0m\u001b[0;34m=\u001b[0m\u001b[0;32mTrue\u001b[0m\u001b[0;34m,\u001b[0m \u001b[0mvalidation_split\u001b[0m\u001b[0;34m=\u001b[0m\u001b[0;36m0.03\u001b[0m\u001b[0;34m,\u001b[0m \u001b[0mcallbacks\u001b[0m\u001b[0;34m=\u001b[0m\u001b[0;34m[\u001b[0m\u001b[0mcheckpoint\u001b[0m\u001b[0;34m]\u001b[0m\u001b[0;34m,\u001b[0m  \u001b[0mshuffle\u001b[0m\u001b[0;34m=\u001b[0m\u001b[0;32mTrue\u001b[0m\u001b[0;34m)\u001b[0m\u001b[0;34m\u001b[0m\u001b[0;34m\u001b[0m\u001b[0m\n\u001b[0m",
            "\u001b[0;32m/usr/local/lib/python3.6/dist-packages/keras/engine/training.py\u001b[0m in \u001b[0;36mfit\u001b[0;34m(self, x, y, batch_size, epochs, verbose, callbacks, validation_split, validation_data, shuffle, class_weight, sample_weight, initial_epoch, steps_per_epoch, validation_steps, validation_freq, max_queue_size, workers, use_multiprocessing, **kwargs)\u001b[0m\n\u001b[1;32m   1237\u001b[0m                                         \u001b[0msteps_per_epoch\u001b[0m\u001b[0;34m=\u001b[0m\u001b[0msteps_per_epoch\u001b[0m\u001b[0;34m,\u001b[0m\u001b[0;34m\u001b[0m\u001b[0;34m\u001b[0m\u001b[0m\n\u001b[1;32m   1238\u001b[0m                                         \u001b[0mvalidation_steps\u001b[0m\u001b[0;34m=\u001b[0m\u001b[0mvalidation_steps\u001b[0m\u001b[0;34m,\u001b[0m\u001b[0;34m\u001b[0m\u001b[0;34m\u001b[0m\u001b[0m\n\u001b[0;32m-> 1239\u001b[0;31m                                         validation_freq=validation_freq)\n\u001b[0m\u001b[1;32m   1240\u001b[0m \u001b[0;34m\u001b[0m\u001b[0m\n\u001b[1;32m   1241\u001b[0m     def evaluate(self,\n",
            "\u001b[0;32m/usr/local/lib/python3.6/dist-packages/keras/engine/training_arrays.py\u001b[0m in \u001b[0;36mfit_loop\u001b[0;34m(model, fit_function, fit_inputs, out_labels, batch_size, epochs, verbose, callbacks, val_function, val_inputs, shuffle, initial_epoch, steps_per_epoch, validation_steps, validation_freq)\u001b[0m\n\u001b[1;32m    194\u001b[0m                     \u001b[0mins_batch\u001b[0m\u001b[0;34m[\u001b[0m\u001b[0mi\u001b[0m\u001b[0;34m]\u001b[0m \u001b[0;34m=\u001b[0m \u001b[0mins_batch\u001b[0m\u001b[0;34m[\u001b[0m\u001b[0mi\u001b[0m\u001b[0;34m]\u001b[0m\u001b[0;34m.\u001b[0m\u001b[0mtoarray\u001b[0m\u001b[0;34m(\u001b[0m\u001b[0;34m)\u001b[0m\u001b[0;34m\u001b[0m\u001b[0;34m\u001b[0m\u001b[0m\n\u001b[1;32m    195\u001b[0m \u001b[0;34m\u001b[0m\u001b[0m\n\u001b[0;32m--> 196\u001b[0;31m                 \u001b[0mouts\u001b[0m \u001b[0;34m=\u001b[0m \u001b[0mfit_function\u001b[0m\u001b[0;34m(\u001b[0m\u001b[0mins_batch\u001b[0m\u001b[0;34m)\u001b[0m\u001b[0;34m\u001b[0m\u001b[0;34m\u001b[0m\u001b[0m\n\u001b[0m\u001b[1;32m    197\u001b[0m                 \u001b[0mouts\u001b[0m \u001b[0;34m=\u001b[0m \u001b[0mto_list\u001b[0m\u001b[0;34m(\u001b[0m\u001b[0mouts\u001b[0m\u001b[0;34m)\u001b[0m\u001b[0;34m\u001b[0m\u001b[0;34m\u001b[0m\u001b[0m\n\u001b[1;32m    198\u001b[0m                 \u001b[0;32mfor\u001b[0m \u001b[0ml\u001b[0m\u001b[0;34m,\u001b[0m \u001b[0mo\u001b[0m \u001b[0;32min\u001b[0m \u001b[0mzip\u001b[0m\u001b[0;34m(\u001b[0m\u001b[0mout_labels\u001b[0m\u001b[0;34m,\u001b[0m \u001b[0mouts\u001b[0m\u001b[0;34m)\u001b[0m\u001b[0;34m:\u001b[0m\u001b[0;34m\u001b[0m\u001b[0;34m\u001b[0m\u001b[0m\n",
            "\u001b[0;32m/usr/local/lib/python3.6/dist-packages/tensorflow/python/keras/backend.py\u001b[0m in \u001b[0;36m__call__\u001b[0;34m(self, inputs)\u001b[0m\n\u001b[1;32m   3790\u001b[0m         \u001b[0mvalue\u001b[0m \u001b[0;34m=\u001b[0m \u001b[0mmath_ops\u001b[0m\u001b[0;34m.\u001b[0m\u001b[0mcast\u001b[0m\u001b[0;34m(\u001b[0m\u001b[0mvalue\u001b[0m\u001b[0;34m,\u001b[0m \u001b[0mtensor\u001b[0m\u001b[0;34m.\u001b[0m\u001b[0mdtype\u001b[0m\u001b[0;34m)\u001b[0m\u001b[0;34m\u001b[0m\u001b[0;34m\u001b[0m\u001b[0m\n\u001b[1;32m   3791\u001b[0m       \u001b[0mconverted_inputs\u001b[0m\u001b[0;34m.\u001b[0m\u001b[0mappend\u001b[0m\u001b[0;34m(\u001b[0m\u001b[0mvalue\u001b[0m\u001b[0;34m)\u001b[0m\u001b[0;34m\u001b[0m\u001b[0;34m\u001b[0m\u001b[0m\n\u001b[0;32m-> 3792\u001b[0;31m     \u001b[0moutputs\u001b[0m \u001b[0;34m=\u001b[0m \u001b[0mself\u001b[0m\u001b[0;34m.\u001b[0m\u001b[0m_graph_fn\u001b[0m\u001b[0;34m(\u001b[0m\u001b[0;34m*\u001b[0m\u001b[0mconverted_inputs\u001b[0m\u001b[0;34m)\u001b[0m\u001b[0;34m\u001b[0m\u001b[0;34m\u001b[0m\u001b[0m\n\u001b[0m\u001b[1;32m   3793\u001b[0m \u001b[0;34m\u001b[0m\u001b[0m\n\u001b[1;32m   3794\u001b[0m     \u001b[0;31m# EagerTensor.numpy() will often make a copy to ensure memory safety.\u001b[0m\u001b[0;34m\u001b[0m\u001b[0;34m\u001b[0m\u001b[0;34m\u001b[0m\u001b[0m\n",
            "\u001b[0;32m/usr/local/lib/python3.6/dist-packages/tensorflow/python/eager/function.py\u001b[0m in \u001b[0;36m__call__\u001b[0;34m(self, *args, **kwargs)\u001b[0m\n\u001b[1;32m   1603\u001b[0m       \u001b[0mTypeError\u001b[0m\u001b[0;34m:\u001b[0m \u001b[0mFor\u001b[0m \u001b[0minvalid\u001b[0m \u001b[0mpositional\u001b[0m\u001b[0;34m/\u001b[0m\u001b[0mkeyword\u001b[0m \u001b[0margument\u001b[0m \u001b[0mcombinations\u001b[0m\u001b[0;34m.\u001b[0m\u001b[0;34m\u001b[0m\u001b[0;34m\u001b[0m\u001b[0m\n\u001b[1;32m   1604\u001b[0m     \"\"\"\n\u001b[0;32m-> 1605\u001b[0;31m     \u001b[0;32mreturn\u001b[0m \u001b[0mself\u001b[0m\u001b[0;34m.\u001b[0m\u001b[0m_call_impl\u001b[0m\u001b[0;34m(\u001b[0m\u001b[0margs\u001b[0m\u001b[0;34m,\u001b[0m \u001b[0mkwargs\u001b[0m\u001b[0;34m)\u001b[0m\u001b[0;34m\u001b[0m\u001b[0;34m\u001b[0m\u001b[0m\n\u001b[0m\u001b[1;32m   1606\u001b[0m \u001b[0;34m\u001b[0m\u001b[0m\n\u001b[1;32m   1607\u001b[0m   \u001b[0;32mdef\u001b[0m \u001b[0m_call_impl\u001b[0m\u001b[0;34m(\u001b[0m\u001b[0mself\u001b[0m\u001b[0;34m,\u001b[0m \u001b[0margs\u001b[0m\u001b[0;34m,\u001b[0m \u001b[0mkwargs\u001b[0m\u001b[0;34m,\u001b[0m \u001b[0mcancellation_manager\u001b[0m\u001b[0;34m=\u001b[0m\u001b[0;32mNone\u001b[0m\u001b[0;34m)\u001b[0m\u001b[0;34m:\u001b[0m\u001b[0;34m\u001b[0m\u001b[0;34m\u001b[0m\u001b[0m\n",
            "\u001b[0;32m/usr/local/lib/python3.6/dist-packages/tensorflow/python/eager/function.py\u001b[0m in \u001b[0;36m_call_impl\u001b[0;34m(self, args, kwargs, cancellation_manager)\u001b[0m\n\u001b[1;32m   1643\u001b[0m       raise TypeError(\"Keyword arguments {} unknown. Expected {}.\".format(\n\u001b[1;32m   1644\u001b[0m           list(kwargs.keys()), list(self._arg_keywords)))\n\u001b[0;32m-> 1645\u001b[0;31m     \u001b[0;32mreturn\u001b[0m \u001b[0mself\u001b[0m\u001b[0;34m.\u001b[0m\u001b[0m_call_flat\u001b[0m\u001b[0;34m(\u001b[0m\u001b[0margs\u001b[0m\u001b[0;34m,\u001b[0m \u001b[0mself\u001b[0m\u001b[0;34m.\u001b[0m\u001b[0mcaptured_inputs\u001b[0m\u001b[0;34m,\u001b[0m \u001b[0mcancellation_manager\u001b[0m\u001b[0;34m)\u001b[0m\u001b[0;34m\u001b[0m\u001b[0;34m\u001b[0m\u001b[0m\n\u001b[0m\u001b[1;32m   1646\u001b[0m \u001b[0;34m\u001b[0m\u001b[0m\n\u001b[1;32m   1647\u001b[0m   \u001b[0;32mdef\u001b[0m \u001b[0m_filtered_call\u001b[0m\u001b[0;34m(\u001b[0m\u001b[0mself\u001b[0m\u001b[0;34m,\u001b[0m \u001b[0margs\u001b[0m\u001b[0;34m,\u001b[0m \u001b[0mkwargs\u001b[0m\u001b[0;34m)\u001b[0m\u001b[0;34m:\u001b[0m\u001b[0;34m\u001b[0m\u001b[0;34m\u001b[0m\u001b[0m\n",
            "\u001b[0;32m/usr/local/lib/python3.6/dist-packages/tensorflow/python/eager/function.py\u001b[0m in \u001b[0;36m_call_flat\u001b[0;34m(self, args, captured_inputs, cancellation_manager)\u001b[0m\n\u001b[1;32m   1744\u001b[0m       \u001b[0;31m# No tape is watching; skip to running the function.\u001b[0m\u001b[0;34m\u001b[0m\u001b[0;34m\u001b[0m\u001b[0;34m\u001b[0m\u001b[0m\n\u001b[1;32m   1745\u001b[0m       return self._build_call_outputs(self._inference_function.call(\n\u001b[0;32m-> 1746\u001b[0;31m           ctx, args, cancellation_manager=cancellation_manager))\n\u001b[0m\u001b[1;32m   1747\u001b[0m     forward_backward = self._select_forward_and_backward_functions(\n\u001b[1;32m   1748\u001b[0m         \u001b[0margs\u001b[0m\u001b[0;34m,\u001b[0m\u001b[0;34m\u001b[0m\u001b[0;34m\u001b[0m\u001b[0m\n",
            "\u001b[0;32m/usr/local/lib/python3.6/dist-packages/tensorflow/python/eager/function.py\u001b[0m in \u001b[0;36mcall\u001b[0;34m(self, ctx, args, cancellation_manager)\u001b[0m\n\u001b[1;32m    596\u001b[0m               \u001b[0minputs\u001b[0m\u001b[0;34m=\u001b[0m\u001b[0margs\u001b[0m\u001b[0;34m,\u001b[0m\u001b[0;34m\u001b[0m\u001b[0;34m\u001b[0m\u001b[0m\n\u001b[1;32m    597\u001b[0m               \u001b[0mattrs\u001b[0m\u001b[0;34m=\u001b[0m\u001b[0mattrs\u001b[0m\u001b[0;34m,\u001b[0m\u001b[0;34m\u001b[0m\u001b[0;34m\u001b[0m\u001b[0m\n\u001b[0;32m--> 598\u001b[0;31m               ctx=ctx)\n\u001b[0m\u001b[1;32m    599\u001b[0m         \u001b[0;32melse\u001b[0m\u001b[0;34m:\u001b[0m\u001b[0;34m\u001b[0m\u001b[0;34m\u001b[0m\u001b[0m\n\u001b[1;32m    600\u001b[0m           outputs = execute.execute_with_cancellation(\n",
            "\u001b[0;32m/usr/local/lib/python3.6/dist-packages/tensorflow/python/eager/execute.py\u001b[0m in \u001b[0;36mquick_execute\u001b[0;34m(op_name, num_outputs, inputs, attrs, ctx, name)\u001b[0m\n\u001b[1;32m     58\u001b[0m     \u001b[0mctx\u001b[0m\u001b[0;34m.\u001b[0m\u001b[0mensure_initialized\u001b[0m\u001b[0;34m(\u001b[0m\u001b[0;34m)\u001b[0m\u001b[0;34m\u001b[0m\u001b[0;34m\u001b[0m\u001b[0m\n\u001b[1;32m     59\u001b[0m     tensors = pywrap_tfe.TFE_Py_Execute(ctx._handle, device_name, op_name,\n\u001b[0;32m---> 60\u001b[0;31m                                         inputs, attrs, num_outputs)\n\u001b[0m\u001b[1;32m     61\u001b[0m   \u001b[0;32mexcept\u001b[0m \u001b[0mcore\u001b[0m\u001b[0;34m.\u001b[0m\u001b[0m_NotOkStatusException\u001b[0m \u001b[0;32mas\u001b[0m \u001b[0me\u001b[0m\u001b[0;34m:\u001b[0m\u001b[0;34m\u001b[0m\u001b[0;34m\u001b[0m\u001b[0m\n\u001b[1;32m     62\u001b[0m     \u001b[0;32mif\u001b[0m \u001b[0mname\u001b[0m \u001b[0;32mis\u001b[0m \u001b[0;32mnot\u001b[0m \u001b[0;32mNone\u001b[0m\u001b[0;34m:\u001b[0m\u001b[0;34m\u001b[0m\u001b[0;34m\u001b[0m\u001b[0m\n",
            "\u001b[0;31mKeyboardInterrupt\u001b[0m: "
          ]
        }
      ]
    },
    {
      "cell_type": "code",
      "metadata": {
        "id": "GBIK8l1Dgu35",
        "colab_type": "code",
        "colab": {}
      },
      "source": [
        "\n",
        "model1 = lstm128()\n",
        "model1.load_weights('drive/My Drive/db_cosmo/models/epochs:023-val_sparse_categorical_accuracy:0.487_64_embed_128_cells_maxlen18.hdf5')"
      ],
      "execution_count": 0,
      "outputs": []
    },
    {
      "cell_type": "code",
      "metadata": {
        "id": "_kOj9jwpzH4O",
        "colab_type": "code",
        "colab": {}
      },
      "source": [
        "from tqdm import tqdm"
      ],
      "execution_count": 0,
      "outputs": []
    },
    {
      "cell_type": "code",
      "metadata": {
        "id": "TOqMVXfjZ2rj",
        "colab_type": "code",
        "colab": {}
      },
      "source": [
        "sequences_test = sequences.apply(lambda x: x[-maxlen:])\n",
        "sequences_test = sequences_test.apply(lambda x: [0 for i in range(maxlen - len(x))] + x)"
      ],
      "execution_count": 0,
      "outputs": []
    },
    {
      "cell_type": "code",
      "metadata": {
        "id": "7H_b-PpFjOrB",
        "colab_type": "code",
        "colab": {}
      },
      "source": [
        "test_users_in_sequences = sorted(set(sequences_test.index) & set(df_test['Карта']))"
      ],
      "execution_count": 0,
      "outputs": []
    },
    {
      "cell_type": "code",
      "metadata": {
        "id": "TM3gsy-FjWXX",
        "colab_type": "code",
        "colab": {}
      },
      "source": [
        "X_test = np.array(sequences_test[test_users_in_sequences].tolist())"
      ],
      "execution_count": 0,
      "outputs": []
    },
    {
      "cell_type": "code",
      "metadata": {
        "id": "_e3Rqj3Njb38",
        "colab_type": "code",
        "outputId": "481bf83b-bf3c-49aa-e5a2-bc7049ea1f83",
        "colab": {
          "base_uri": "https://localhost:8080/",
          "height": 34
        }
      },
      "source": [
        "from itertools import chain\n",
        "batch_size = 2048*8\n",
        "n_batches = int(X_test.shape[0]/batch_size) + 1\n",
        "preds = []\n",
        "\n",
        "for batch_ind in tqdm(range(n_batches)):\n",
        "    batch = X_test[batch_ind*batch_size: (batch_ind + 1)*batch_size]\n",
        "    curr_preds = model1.predict(batch)\n",
        "    curr_preds = np.argsort(-curr_preds)[:, :10]\n",
        "    preds.append([' '.join(map(lambda x: str(x), row)) for row in curr_preds])\n",
        "preds = list(chain(*preds))"
      ],
      "execution_count": 0,
      "outputs": [
        {
          "output_type": "stream",
          "text": [
            "100%|██████████| 3/3 [00:14<00:00,  4.74s/it]\n"
          ],
          "name": "stderr"
        }
      ]
    },
    {
      "cell_type": "code",
      "metadata": {
        "id": "IW1CPwpmjfTy",
        "colab_type": "code",
        "colab": {}
      },
      "source": [
        "pred_dataset.index = pred_dataset.loc[:,'Карта']\n",
        "pred_dataset.recomendation[test_users_in_sequences] = preds"
      ],
      "execution_count": 0,
      "outputs": []
    },
    {
      "cell_type": "code",
      "metadata": {
        "id": "J9mV1cIKjgN7",
        "colab_type": "code",
        "outputId": "8850f5f6-885c-4248-96b9-58b4688cdf2c",
        "colab": {
          "base_uri": "https://localhost:8080/",
          "height": 373
        }
      },
      "source": [
        "pred_dataset[10:20]"
      ],
      "execution_count": 0,
      "outputs": [
        {
          "output_type": "execute_result",
          "data": {
            "text/html": [
              "<div>\n",
              "<style scoped>\n",
              "    .dataframe tbody tr th:only-of-type {\n",
              "        vertical-align: middle;\n",
              "    }\n",
              "\n",
              "    .dataframe tbody tr th {\n",
              "        vertical-align: top;\n",
              "    }\n",
              "\n",
              "    .dataframe thead th {\n",
              "        text-align: right;\n",
              "    }\n",
              "</style>\n",
              "<table border=\"1\" class=\"dataframe\">\n",
              "  <thead>\n",
              "    <tr style=\"text-align: right;\">\n",
              "      <th></th>\n",
              "      <th>Карта</th>\n",
              "      <th>recomendation</th>\n",
              "    </tr>\n",
              "    <tr>\n",
              "      <th>Карта</th>\n",
              "      <th></th>\n",
              "      <th></th>\n",
              "    </tr>\n",
              "  </thead>\n",
              "  <tbody>\n",
              "    <tr>\n",
              "      <th>5947297</th>\n",
              "      <td>5947297</td>\n",
              "      <td>0</td>\n",
              "    </tr>\n",
              "    <tr>\n",
              "      <th>3573250</th>\n",
              "      <td>3573250</td>\n",
              "      <td>66 345 676 231 344 826 113 1295 169 58</td>\n",
              "    </tr>\n",
              "    <tr>\n",
              "      <th>5753473</th>\n",
              "      <td>5753473</td>\n",
              "      <td>55 103 57 3 39 77 11 224 32 158</td>\n",
              "    </tr>\n",
              "    <tr>\n",
              "      <th>5213804</th>\n",
              "      <td>5213804</td>\n",
              "      <td>1355 83 11 2 30 5 105 408 22 143</td>\n",
              "    </tr>\n",
              "    <tr>\n",
              "      <th>6608565</th>\n",
              "      <td>6608565</td>\n",
              "      <td>92 11 234 703 304 160 30 223 169 300</td>\n",
              "    </tr>\n",
              "    <tr>\n",
              "      <th>6711118</th>\n",
              "      <td>6711118</td>\n",
              "      <td>21 158 14 35 3 119 55 361 11 137</td>\n",
              "    </tr>\n",
              "    <tr>\n",
              "      <th>5914518</th>\n",
              "      <td>5914518</td>\n",
              "      <td>324 162 345 157 264 1234 58 768 113 938</td>\n",
              "    </tr>\n",
              "    <tr>\n",
              "      <th>2572426</th>\n",
              "      <td>2572426</td>\n",
              "      <td>1211 14 30 219 105 22 857 33 458 67</td>\n",
              "    </tr>\n",
              "    <tr>\n",
              "      <th>2290772</th>\n",
              "      <td>2290772</td>\n",
              "      <td>91 14 667 122 234 180 835 837 554 200</td>\n",
              "    </tr>\n",
              "    <tr>\n",
              "      <th>1133946</th>\n",
              "      <td>1133946</td>\n",
              "      <td>516 554 169 92 345 14 30 11 490 234</td>\n",
              "    </tr>\n",
              "  </tbody>\n",
              "</table>\n",
              "</div>"
            ],
            "text/plain": [
              "           Карта                            recomendation\n",
              "Карта                                                    \n",
              "5947297  5947297                                        0\n",
              "3573250  3573250   66 345 676 231 344 826 113 1295 169 58\n",
              "5753473  5753473          55 103 57 3 39 77 11 224 32 158\n",
              "5213804  5213804         1355 83 11 2 30 5 105 408 22 143\n",
              "6608565  6608565     92 11 234 703 304 160 30 223 169 300\n",
              "6711118  6711118         21 158 14 35 3 119 55 361 11 137\n",
              "5914518  5914518  324 162 345 157 264 1234 58 768 113 938\n",
              "2572426  2572426      1211 14 30 219 105 22 857 33 458 67\n",
              "2290772  2290772    91 14 667 122 234 180 835 837 554 200\n",
              "1133946  1133946      516 554 169 92 345 14 30 11 490 234"
            ]
          },
          "metadata": {
            "tags": []
          },
          "execution_count": 156
        }
      ]
    },
    {
      "cell_type": "code",
      "metadata": {
        "id": "OCdQar1UBj7u",
        "colab_type": "code",
        "colab": {}
      },
      "source": [
        "pred_dataset=pred_dataset[pred_dataset['recomendation']!=0]"
      ],
      "execution_count": 0,
      "outputs": []
    },
    {
      "cell_type": "code",
      "metadata": {
        "id": "xAEueL5zj4Em",
        "colab_type": "code",
        "colab": {}
      },
      "source": [
        "pred_dataset['recomendation']=pred_dataset['recomendation'].map(lambda x: x.split(' '))"
      ],
      "execution_count": 0,
      "outputs": []
    },
    {
      "cell_type": "code",
      "metadata": {
        "id": "0Sk77qy7j_cj",
        "colab_type": "code",
        "colab": {}
      },
      "source": [
        ""
      ],
      "execution_count": 0,
      "outputs": []
    },
    {
      "cell_type": "code",
      "metadata": {
        "id": "sX37LsJ-kwg3",
        "colab_type": "code",
        "colab": {}
      },
      "source": [
        ""
      ],
      "execution_count": 0,
      "outputs": []
    },
    {
      "cell_type": "code",
      "metadata": {
        "id": "hU7j4CdPlJlf",
        "colab_type": "code",
        "colab": {}
      },
      "source": [
        "de_codec=dict(zip(codec.values(), codec.keys()))"
      ],
      "execution_count": 0,
      "outputs": []
    },
    {
      "cell_type": "code",
      "metadata": {
        "id": "49KkG3-QljMy",
        "colab_type": "code",
        "colab": {}
      },
      "source": [
        "alt=Products[['new_prod_key', 'Подгруппа','Группа','Бренд']].drop_duplicates()"
      ],
      "execution_count": 0,
      "outputs": []
    },
    {
      "cell_type": "code",
      "metadata": {
        "id": "kvB30lFFmAlM",
        "colab_type": "code",
        "colab": {}
      },
      "source": [
        "def check(cardID, alt, de_codec):\n",
        "  f=pred_dataset[pred_dataset['Карта']==cardID]['recomendation'].values[0]\n",
        "  f_1=[de_codec.get(int(i)) for i in f]\n",
        "  predictors=alt[alt['new_prod_key'].isin(f_1)]\n",
        "  real=transactions_short[(transactions_short['Карта']==cardID)&(transactions_short['Дата']>pd.datetime(2019,9,1))]\n",
        "  return predictors, real"
      ],
      "execution_count": 0,
      "outputs": []
    },
    {
      "cell_type": "code",
      "metadata": {
        "id": "Yc7C4Y0pmd4f",
        "colab_type": "code",
        "outputId": "93de4109-4275-4123-e54e-bfb67ba02971",
        "colab": {
          "base_uri": "https://localhost:8080/",
          "height": 70
        }
      },
      "source": [
        "a,b=check(6597895, alt, de_codec)"
      ],
      "execution_count": 0,
      "outputs": [
        {
          "output_type": "stream",
          "text": [
            "/usr/local/lib/python3.6/dist-packages/ipykernel_launcher.py:5: FutureWarning: The pandas.datetime class is deprecated and will be removed from pandas in a future version. Import from datetime instead.\n",
            "  \"\"\"\n"
          ],
          "name": "stderr"
        }
      ]
    },
    {
      "cell_type": "code",
      "metadata": {
        "id": "Vj40gf6MnwKk",
        "colab_type": "code",
        "outputId": "f7497b29-c5a5-4477-e3cc-22161fd63f6c",
        "colab": {
          "base_uri": "https://localhost:8080/",
          "height": 343
        }
      },
      "source": [
        "a"
      ],
      "execution_count": 0,
      "outputs": [
        {
          "output_type": "execute_result",
          "data": {
            "text/html": [
              "<div>\n",
              "<style scoped>\n",
              "    .dataframe tbody tr th:only-of-type {\n",
              "        vertical-align: middle;\n",
              "    }\n",
              "\n",
              "    .dataframe tbody tr th {\n",
              "        vertical-align: top;\n",
              "    }\n",
              "\n",
              "    .dataframe thead th {\n",
              "        text-align: right;\n",
              "    }\n",
              "</style>\n",
              "<table border=\"1\" class=\"dataframe\">\n",
              "  <thead>\n",
              "    <tr style=\"text-align: right;\">\n",
              "      <th></th>\n",
              "      <th>new_prod_key</th>\n",
              "      <th>Подгруппа</th>\n",
              "      <th>Группа</th>\n",
              "      <th>Бренд</th>\n",
              "    </tr>\n",
              "  </thead>\n",
              "  <tbody>\n",
              "    <tr>\n",
              "      <th>4342</th>\n",
              "      <td>18_22_39</td>\n",
              "      <td>16-Акция</td>\n",
              "      <td>16-Акция</td>\n",
              "      <td>ПРОЧИЕ</td>\n",
              "    </tr>\n",
              "    <tr>\n",
              "      <th>14054</th>\n",
              "      <td>71_112_91</td>\n",
              "      <td>Маска для лица одноразовая</td>\n",
              "      <td>Уход за лицом</td>\n",
              "      <td>NINGBO</td>\n",
              "    </tr>\n",
              "    <tr>\n",
              "      <th>26961</th>\n",
              "      <td>71_112_934</td>\n",
              "      <td>Маска для лица одноразовая</td>\n",
              "      <td>Уход за лицом</td>\n",
              "      <td>VIA BEAUTY</td>\n",
              "    </tr>\n",
              "    <tr>\n",
              "      <th>36336</th>\n",
              "      <td>71_112_760</td>\n",
              "      <td>Маска для лица одноразовая</td>\n",
              "      <td>Уход за лицом</td>\n",
              "      <td>BEAUTYDERM</td>\n",
              "    </tr>\n",
              "    <tr>\n",
              "      <th>49259</th>\n",
              "      <td>136_240_711</td>\n",
              "      <td>Гель-душ женский</td>\n",
              "      <td>Гель-душ</td>\n",
              "      <td>FA</td>\n",
              "    </tr>\n",
              "    <tr>\n",
              "      <th>54698</th>\n",
              "      <td>136_240_160</td>\n",
              "      <td>Гель-душ женский</td>\n",
              "      <td>Гель-душ</td>\n",
              "      <td>PALMOLIVE</td>\n",
              "    </tr>\n",
              "    <tr>\n",
              "      <th>60745</th>\n",
              "      <td>136_240_585</td>\n",
              "      <td>Гель-душ женский</td>\n",
              "      <td>Гель-душ</td>\n",
              "      <td>LE PETIT MARSEILLAIS</td>\n",
              "    </tr>\n",
              "    <tr>\n",
              "      <th>97055</th>\n",
              "      <td>0_346_2220</td>\n",
              "      <td>Носки женские х/б</td>\n",
              "      <td>Чулочно-носочные изделия взрослые</td>\n",
              "      <td>PARA</td>\n",
              "    </tr>\n",
              "    <tr>\n",
              "      <th>101204</th>\n",
              "      <td>0_0_2177</td>\n",
              "      <td>Колготы женские</td>\n",
              "      <td>Чулочно-носочные изделия взрослые</td>\n",
              "      <td>VIVA</td>\n",
              "    </tr>\n",
              "    <tr>\n",
              "      <th>170772</th>\n",
              "      <td>9_10_661</td>\n",
              "      <td>Лак декоративный</td>\n",
              "      <td>Декор ногти</td>\n",
              "      <td>ODRI СТМ</td>\n",
              "    </tr>\n",
              "  </tbody>\n",
              "</table>\n",
              "</div>"
            ],
            "text/plain": [
              "       new_prod_key  ...                 Бренд\n",
              "4342       18_22_39  ...                ПРОЧИЕ\n",
              "14054     71_112_91  ...                NINGBO\n",
              "26961    71_112_934  ...            VIA BEAUTY\n",
              "36336    71_112_760  ...            BEAUTYDERM\n",
              "49259   136_240_711  ...                    FA\n",
              "54698   136_240_160  ...             PALMOLIVE\n",
              "60745   136_240_585  ...  LE PETIT MARSEILLAIS\n",
              "97055    0_346_2220  ...                  PARA\n",
              "101204     0_0_2177  ...                  VIVA\n",
              "170772     9_10_661  ...              ODRI СТМ\n",
              "\n",
              "[10 rows x 4 columns]"
            ]
          },
          "metadata": {
            "tags": []
          },
          "execution_count": 163
        }
      ]
    },
    {
      "cell_type": "code",
      "metadata": {
        "id": "wOWwy2LCn1N5",
        "colab_type": "code",
        "outputId": "627799d4-090b-42d6-a29a-8431089b2bea",
        "colab": {
          "base_uri": "https://localhost:8080/",
          "height": 402
        }
      },
      "source": [
        "b"
      ],
      "execution_count": 0,
      "outputs": [
        {
          "output_type": "execute_result",
          "data": {
            "text/html": [
              "<div>\n",
              "<style scoped>\n",
              "    .dataframe tbody tr th:only-of-type {\n",
              "        vertical-align: middle;\n",
              "    }\n",
              "\n",
              "    .dataframe tbody tr th {\n",
              "        vertical-align: top;\n",
              "    }\n",
              "\n",
              "    .dataframe thead th {\n",
              "        text-align: right;\n",
              "    }\n",
              "</style>\n",
              "<table border=\"1\" class=\"dataframe\">\n",
              "  <thead>\n",
              "    <tr style=\"text-align: right;\">\n",
              "      <th></th>\n",
              "      <th>Дата</th>\n",
              "      <th>Карта</th>\n",
              "      <th>new_prod_key</th>\n",
              "      <th>ID_code</th>\n",
              "    </tr>\n",
              "  </thead>\n",
              "  <tbody>\n",
              "    <tr>\n",
              "      <th>577676</th>\n",
              "      <td>2019-09-14 21:22:08</td>\n",
              "      <td>6597895</td>\n",
              "      <td>164_606_841</td>\n",
              "      <td>184</td>\n",
              "    </tr>\n",
              "    <tr>\n",
              "      <th>577677</th>\n",
              "      <td>2019-09-14 21:22:08</td>\n",
              "      <td>6597895</td>\n",
              "      <td>164_606_841</td>\n",
              "      <td>184</td>\n",
              "    </tr>\n",
              "    <tr>\n",
              "      <th>577755</th>\n",
              "      <td>2019-10-16 21:45:56</td>\n",
              "      <td>6597895</td>\n",
              "      <td>164_606_841</td>\n",
              "      <td>184</td>\n",
              "    </tr>\n",
              "    <tr>\n",
              "      <th>577947</th>\n",
              "      <td>2019-12-16 18:23:27</td>\n",
              "      <td>6597895</td>\n",
              "      <td>164_606_841</td>\n",
              "      <td>184</td>\n",
              "    </tr>\n",
              "    <tr>\n",
              "      <th>577979</th>\n",
              "      <td>2019-10-01 21:06:50</td>\n",
              "      <td>6597895</td>\n",
              "      <td>164_606_841</td>\n",
              "      <td>184</td>\n",
              "    </tr>\n",
              "    <tr>\n",
              "      <th>...</th>\n",
              "      <td>...</td>\n",
              "      <td>...</td>\n",
              "      <td>...</td>\n",
              "      <td>...</td>\n",
              "    </tr>\n",
              "    <tr>\n",
              "      <th>8484298</th>\n",
              "      <td>2019-11-11 13:06:41</td>\n",
              "      <td>6597895</td>\n",
              "      <td>0_344_2220</td>\n",
              "      <td>143</td>\n",
              "    </tr>\n",
              "    <tr>\n",
              "      <th>8486985</th>\n",
              "      <td>2019-11-11 13:06:41</td>\n",
              "      <td>6597895</td>\n",
              "      <td>0_346_2220</td>\n",
              "      <td>30</td>\n",
              "    </tr>\n",
              "    <tr>\n",
              "      <th>8486986</th>\n",
              "      <td>2019-11-11 13:06:41</td>\n",
              "      <td>6597895</td>\n",
              "      <td>0_346_2220</td>\n",
              "      <td>30</td>\n",
              "    </tr>\n",
              "    <tr>\n",
              "      <th>8499225</th>\n",
              "      <td>2019-11-01 17:58:11</td>\n",
              "      <td>6597895</td>\n",
              "      <td>0_344_2014</td>\n",
              "      <td>148</td>\n",
              "    </tr>\n",
              "    <tr>\n",
              "      <th>8499226</th>\n",
              "      <td>2019-11-01 17:58:11</td>\n",
              "      <td>6597895</td>\n",
              "      <td>0_344_2014</td>\n",
              "      <td>148</td>\n",
              "    </tr>\n",
              "  </tbody>\n",
              "</table>\n",
              "<p>71 rows × 4 columns</p>\n",
              "</div>"
            ],
            "text/plain": [
              "                       Дата    Карта new_prod_key  ID_code\n",
              "577676  2019-09-14 21:22:08  6597895  164_606_841      184\n",
              "577677  2019-09-14 21:22:08  6597895  164_606_841      184\n",
              "577755  2019-10-16 21:45:56  6597895  164_606_841      184\n",
              "577947  2019-12-16 18:23:27  6597895  164_606_841      184\n",
              "577979  2019-10-01 21:06:50  6597895  164_606_841      184\n",
              "...                     ...      ...          ...      ...\n",
              "8484298 2019-11-11 13:06:41  6597895   0_344_2220      143\n",
              "8486985 2019-11-11 13:06:41  6597895   0_346_2220       30\n",
              "8486986 2019-11-11 13:06:41  6597895   0_346_2220       30\n",
              "8499225 2019-11-01 17:58:11  6597895   0_344_2014      148\n",
              "8499226 2019-11-01 17:58:11  6597895   0_344_2014      148\n",
              "\n",
              "[71 rows x 4 columns]"
            ]
          },
          "metadata": {
            "tags": []
          },
          "execution_count": 164
        }
      ]
    },
    {
      "cell_type": "code",
      "metadata": {
        "id": "L0PrWEYmn2Jo",
        "colab_type": "code",
        "outputId": "ff87b478-643b-4895-dd7d-4f807366f259",
        "colab": {
          "base_uri": "https://localhost:8080/",
          "height": 50
        }
      },
      "source": [
        "b[b.new_prod_key.isin(a.new_prod_key)].new_prod_key.unique()"
      ],
      "execution_count": 0,
      "outputs": [
        {
          "output_type": "execute_result",
          "data": {
            "text/plain": [
              "array(['136_240_160', '0_0_2177', '71_112_934', '71_112_91', '71_112_760',\n",
              "       '0_346_2220'], dtype=object)"
            ]
          },
          "metadata": {
            "tags": []
          },
          "execution_count": 165
        }
      ]
    },
    {
      "cell_type": "code",
      "metadata": {
        "id": "RM2AbWYD94lW",
        "colab_type": "code",
        "outputId": "cecdb500-6a67-44e8-97d0-ae1ae8f22e63",
        "colab": {
          "base_uri": "https://localhost:8080/",
          "height": 225
        }
      },
      "source": [
        "Products[Products['new_prod_key'].isin(b[b.new_prod_key.isin(a.new_prod_key)].new_prod_key.unique())][['new_prod_key','Подгруппа','Группа','Бренд']].drop_duplicates()"
      ],
      "execution_count": 0,
      "outputs": [
        {
          "output_type": "execute_result",
          "data": {
            "text/html": [
              "<div>\n",
              "<style scoped>\n",
              "    .dataframe tbody tr th:only-of-type {\n",
              "        vertical-align: middle;\n",
              "    }\n",
              "\n",
              "    .dataframe tbody tr th {\n",
              "        vertical-align: top;\n",
              "    }\n",
              "\n",
              "    .dataframe thead th {\n",
              "        text-align: right;\n",
              "    }\n",
              "</style>\n",
              "<table border=\"1\" class=\"dataframe\">\n",
              "  <thead>\n",
              "    <tr style=\"text-align: right;\">\n",
              "      <th></th>\n",
              "      <th>new_prod_key</th>\n",
              "      <th>Подгруппа</th>\n",
              "      <th>Группа</th>\n",
              "      <th>Бренд</th>\n",
              "    </tr>\n",
              "  </thead>\n",
              "  <tbody>\n",
              "    <tr>\n",
              "      <th>14054</th>\n",
              "      <td>71_112_91</td>\n",
              "      <td>Маска для лица одноразовая</td>\n",
              "      <td>Уход за лицом</td>\n",
              "      <td>NINGBO</td>\n",
              "    </tr>\n",
              "    <tr>\n",
              "      <th>26961</th>\n",
              "      <td>71_112_934</td>\n",
              "      <td>Маска для лица одноразовая</td>\n",
              "      <td>Уход за лицом</td>\n",
              "      <td>VIA BEAUTY</td>\n",
              "    </tr>\n",
              "    <tr>\n",
              "      <th>36336</th>\n",
              "      <td>71_112_760</td>\n",
              "      <td>Маска для лица одноразовая</td>\n",
              "      <td>Уход за лицом</td>\n",
              "      <td>BEAUTYDERM</td>\n",
              "    </tr>\n",
              "    <tr>\n",
              "      <th>54698</th>\n",
              "      <td>136_240_160</td>\n",
              "      <td>Гель-душ женский</td>\n",
              "      <td>Гель-душ</td>\n",
              "      <td>PALMOLIVE</td>\n",
              "    </tr>\n",
              "    <tr>\n",
              "      <th>97055</th>\n",
              "      <td>0_346_2220</td>\n",
              "      <td>Носки женские х/б</td>\n",
              "      <td>Чулочно-носочные изделия взрослые</td>\n",
              "      <td>PARA</td>\n",
              "    </tr>\n",
              "    <tr>\n",
              "      <th>101204</th>\n",
              "      <td>0_0_2177</td>\n",
              "      <td>Колготы женские</td>\n",
              "      <td>Чулочно-носочные изделия взрослые</td>\n",
              "      <td>VIVA</td>\n",
              "    </tr>\n",
              "  </tbody>\n",
              "</table>\n",
              "</div>"
            ],
            "text/plain": [
              "       new_prod_key  ...       Бренд\n",
              "14054     71_112_91  ...      NINGBO\n",
              "26961    71_112_934  ...  VIA BEAUTY\n",
              "36336    71_112_760  ...  BEAUTYDERM\n",
              "54698   136_240_160  ...   PALMOLIVE\n",
              "97055    0_346_2220  ...        PARA\n",
              "101204     0_0_2177  ...        VIVA\n",
              "\n",
              "[6 rows x 4 columns]"
            ]
          },
          "metadata": {
            "tags": []
          },
          "execution_count": 166
        }
      ]
    },
    {
      "cell_type": "code",
      "metadata": {
        "id": "8wBwk3a4pi50",
        "colab_type": "code",
        "colab": {}
      },
      "source": [
        "from tqdm import tqdm"
      ],
      "execution_count": 0,
      "outputs": []
    },
    {
      "cell_type": "code",
      "metadata": {
        "id": "D1rz3kdcoFNa",
        "colab_type": "code",
        "outputId": "06509fca-8de1-4fc9-fe83-3ac76af15f57",
        "colab": {
          "base_uri": "https://localhost:8080/",
          "height": 87
        }
      },
      "source": [
        "res=[]\n",
        "for i in tqdm(pred_dataset['Карта'].unique()):\n",
        "  a,b=check(i, alt, de_codec)\n",
        "  res.append([i,b[b.new_prod_key.isin(a.new_prod_key)]['new_prod_key'].nunique()/10])\n",
        "\n"
      ],
      "execution_count": 0,
      "outputs": [
        {
          "output_type": "stream",
          "text": [
            "  0%|          | 0/44241 [00:00<?, ?it/s]/usr/local/lib/python3.6/dist-packages/ipykernel_launcher.py:5: FutureWarning: The pandas.datetime class is deprecated and will be removed from pandas in a future version. Import from datetime instead.\n",
            "  \"\"\"\n",
            "100%|██████████| 44241/44241 [21:23<00:00, 34.46it/s]\n"
          ],
          "name": "stderr"
        }
      ]
    },
    {
      "cell_type": "code",
      "metadata": {
        "id": "jUDq51YcpZL0",
        "colab_type": "code",
        "colab": {}
      },
      "source": [
        "res=pd.DataFrame(res)"
      ],
      "execution_count": 0,
      "outputs": []
    },
    {
      "cell_type": "code",
      "metadata": {
        "id": "FtJ8GhkWwgoE",
        "colab_type": "code",
        "outputId": "1487b0a5-4090-42ba-f012-11da2660acf1",
        "colab": {
          "base_uri": "https://localhost:8080/",
          "height": 402
        }
      },
      "source": [
        "res"
      ],
      "execution_count": 0,
      "outputs": [
        {
          "output_type": "execute_result",
          "data": {
            "text/html": [
              "<div>\n",
              "<style scoped>\n",
              "    .dataframe tbody tr th:only-of-type {\n",
              "        vertical-align: middle;\n",
              "    }\n",
              "\n",
              "    .dataframe tbody tr th {\n",
              "        vertical-align: top;\n",
              "    }\n",
              "\n",
              "    .dataframe thead th {\n",
              "        text-align: right;\n",
              "    }\n",
              "</style>\n",
              "<table border=\"1\" class=\"dataframe\">\n",
              "  <thead>\n",
              "    <tr style=\"text-align: right;\">\n",
              "      <th></th>\n",
              "      <th>0</th>\n",
              "      <th>1</th>\n",
              "    </tr>\n",
              "  </thead>\n",
              "  <tbody>\n",
              "    <tr>\n",
              "      <th>0</th>\n",
              "      <td>2064727</td>\n",
              "      <td>0.0</td>\n",
              "    </tr>\n",
              "    <tr>\n",
              "      <th>1</th>\n",
              "      <td>6195527</td>\n",
              "      <td>0.0</td>\n",
              "    </tr>\n",
              "    <tr>\n",
              "      <th>2</th>\n",
              "      <td>5324253</td>\n",
              "      <td>0.0</td>\n",
              "    </tr>\n",
              "    <tr>\n",
              "      <th>3</th>\n",
              "      <td>2076599</td>\n",
              "      <td>0.0</td>\n",
              "    </tr>\n",
              "    <tr>\n",
              "      <th>4</th>\n",
              "      <td>5921230</td>\n",
              "      <td>0.1</td>\n",
              "    </tr>\n",
              "    <tr>\n",
              "      <th>...</th>\n",
              "      <td>...</td>\n",
              "      <td>...</td>\n",
              "    </tr>\n",
              "    <tr>\n",
              "      <th>44236</th>\n",
              "      <td>6184759</td>\n",
              "      <td>0.0</td>\n",
              "    </tr>\n",
              "    <tr>\n",
              "      <th>44237</th>\n",
              "      <td>5325138</td>\n",
              "      <td>0.0</td>\n",
              "    </tr>\n",
              "    <tr>\n",
              "      <th>44238</th>\n",
              "      <td>5607663</td>\n",
              "      <td>0.0</td>\n",
              "    </tr>\n",
              "    <tr>\n",
              "      <th>44239</th>\n",
              "      <td>5279992</td>\n",
              "      <td>0.0</td>\n",
              "    </tr>\n",
              "    <tr>\n",
              "      <th>44240</th>\n",
              "      <td>6485531</td>\n",
              "      <td>0.0</td>\n",
              "    </tr>\n",
              "  </tbody>\n",
              "</table>\n",
              "<p>44241 rows × 2 columns</p>\n",
              "</div>"
            ],
            "text/plain": [
              "             0    1\n",
              "0      2064727  0.0\n",
              "1      6195527  0.0\n",
              "2      5324253  0.0\n",
              "3      2076599  0.0\n",
              "4      5921230  0.1\n",
              "...        ...  ...\n",
              "44236  6184759  0.0\n",
              "44237  5325138  0.0\n",
              "44238  5607663  0.0\n",
              "44239  5279992  0.0\n",
              "44240  6485531  0.0\n",
              "\n",
              "[44241 rows x 2 columns]"
            ]
          },
          "metadata": {
            "tags": []
          },
          "execution_count": 171
        }
      ]
    },
    {
      "cell_type": "code",
      "metadata": {
        "id": "CB0Ps1wev3E-",
        "colab_type": "code",
        "outputId": "0867e72f-e427-4dc6-c0a6-f2c83c2d5335",
        "colab": {
          "base_uri": "https://localhost:8080/",
          "height": 34
        }
      },
      "source": [
        "res[1].mean()"
      ],
      "execution_count": 0,
      "outputs": [
        {
          "output_type": "execute_result",
          "data": {
            "text/plain": [
              "0.05091807749975354"
            ]
          },
          "metadata": {
            "tags": []
          },
          "execution_count": 143
        }
      ]
    },
    {
      "cell_type": "code",
      "metadata": {
        "id": "S08Fs51AwGrQ",
        "colab_type": "code",
        "outputId": "e67e03d4-292d-4333-8984-225838242949",
        "colab": {
          "base_uri": "https://localhost:8080/",
          "height": 101
        }
      },
      "source": [
        "res[1].value_counts()"
      ],
      "execution_count": 0,
      "outputs": [
        {
          "output_type": "execute_result",
          "data": {
            "text/plain": [
              "0.000000    38039\n",
              "0.333333     5672\n",
              "0.666667      504\n",
              "1.000000       26\n",
              "Name: 1, dtype: int64"
            ]
          },
          "metadata": {
            "tags": []
          },
          "execution_count": 144
        }
      ]
    },
    {
      "cell_type": "code",
      "metadata": {
        "id": "QWaMoHUw3zmY",
        "colab_type": "code",
        "outputId": "782a4b4a-5a86-45ec-c26c-5ed9ce8e7416",
        "colab": {
          "base_uri": "https://localhost:8080/",
          "height": 34
        }
      },
      "source": [
        "len(res)"
      ],
      "execution_count": 0,
      "outputs": [
        {
          "output_type": "execute_result",
          "data": {
            "text/plain": [
              "44241"
            ]
          },
          "metadata": {
            "tags": []
          },
          "execution_count": 145
        }
      ]
    },
    {
      "cell_type": "code",
      "metadata": {
        "id": "EjOlSg3galkX",
        "colab_type": "code",
        "outputId": "259faddb-3dba-4555-f1d8-dae948fcb76b",
        "colab": {
          "base_uri": "https://localhost:8080/",
          "height": 34
        }
      },
      "source": [
        "len(res[res[1]>0])"
      ],
      "execution_count": 0,
      "outputs": [
        {
          "output_type": "execute_result",
          "data": {
            "text/plain": [
              "6202"
            ]
          },
          "metadata": {
            "tags": []
          },
          "execution_count": 146
        }
      ]
    },
    {
      "cell_type": "code",
      "metadata": {
        "id": "GcMA856-asET",
        "colab_type": "code",
        "outputId": "28b2eb72-75c3-406a-b2f7-db246c09c6ff",
        "colab": {
          "base_uri": "https://localhost:8080/",
          "height": 34
        }
      },
      "source": [
        "len(res[res[1]>0])/len(res)"
      ],
      "execution_count": 0,
      "outputs": [
        {
          "output_type": "execute_result",
          "data": {
            "text/plain": [
              "0.2390542709251599"
            ]
          },
          "metadata": {
            "tags": []
          },
          "execution_count": 172
        }
      ]
    },
    {
      "cell_type": "code",
      "metadata": {
        "id": "fh5OTKksayMl",
        "colab_type": "code",
        "colab": {}
      },
      "source": [
        ""
      ],
      "execution_count": 0,
      "outputs": []
    }
  ]
}